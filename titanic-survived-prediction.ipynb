{
 "cells": [
  {
   "cell_type": "markdown",
   "id": "structured-argentina",
   "metadata": {
    "papermill": {
     "duration": 0.036881,
     "end_time": "2021-04-27T06:53:03.952090",
     "exception": false,
     "start_time": "2021-04-27T06:53:03.915209",
     "status": "completed"
    },
    "tags": []
   },
   "source": [
    "# Overview\n",
    "\n",
    "### The data has been split into two groups:\n",
    "\n",
    "> training set (train.csv)\n",
    "> test set (test.csv)\n",
    "\n",
    "* The training set should be used to build your machine learning models. For the training set, we provide the outcome (also known as the “ground truth”) for each passenger. Your model will be based on “features” like passengers’ gender and class. You can also use feature engineering to create new features.\n",
    "\n",
    "\n",
    "* The test set should be used to see how well your model performs on unseen data. For the test set, we do not provide the ground truth for each passenger. It is your job to predict these outcomes. For each passenger in the test set, use the model you trained to predict whether or not they survived the sinking of the Titanic.\n",
    "\n",
    "\n",
    "* We also include gender_submission.csv, a set of predictions that assume all and only female passengers survive, as an example of what a submission file should look like."
   ]
  },
  {
   "cell_type": "markdown",
   "id": "baking-listing",
   "metadata": {
    "papermill": {
     "duration": 0.035463,
     "end_time": "2021-04-27T06:53:04.024088",
     "exception": false,
     "start_time": "2021-04-27T06:53:03.988625",
     "status": "completed"
    },
    "tags": []
   },
   "source": [
    "### Data Dictionary\n",
    "\n",
    "* Variable  --->\tDefinition    --->\tKey\n",
    "* survival  --->\tSurvival      --->    0 = No, 1 = Yes\n",
    "* pclass    --->\tTicket class  --->\t1 = 1st, 2 = 2nd, 3 = 3rd\n",
    "* sex       --->\tSex\t\n",
    "* Age       --->\tAge in years\t\n",
    "* sibsp     --->\t# of siblings / spouses aboard the Titanic\t\n",
    "* parch     --->\t# of parents / children aboard the Titanic\t\n",
    "* ticket    --->\tTicket number\t\n",
    "* fare      --->\tPassenger fare\t\n",
    "* cabin     --->\tCabin number\t\n",
    "* embarked  --->\tPort of Embarkation   --->\tC = Cherbourg, Q = Queenstown, S = Southampton\n"
   ]
  },
  {
   "cell_type": "markdown",
   "id": "regular-flower",
   "metadata": {
    "papermill": {
     "duration": 0.035609,
     "end_time": "2021-04-27T06:53:04.096185",
     "exception": false,
     "start_time": "2021-04-27T06:53:04.060576",
     "status": "completed"
    },
    "tags": []
   },
   "source": [
    "### Variable Notes\n",
    "\n",
    "* pclass: A proxy for socio-economic status (SES)\n",
    "    * 1st = Upper\n",
    "    * 2nd = Middle\n",
    "    * 3rd = Lower\n",
    "\n",
    "* age: Age is fractional if less than 1. If the age is estimated, is it in the form of xx.5\n",
    "\n",
    "* sibsp: The dataset defines family relations in this way...\n",
    "    * Sibling = brother, sister, stepbrother, stepsister\n",
    "    * Spouse = husband, wife (mistresses and fiancés were ignored)\n",
    "\n",
    "* parch: The dataset defines family relations in this way...\n",
    "    * Parent = mother, father\n",
    "    * Child = daughter, son, stepdaughter, stepson\n",
    "\n",
    "* Some children travelled only with a nanny, therefore parch=0 for them."
   ]
  },
  {
   "cell_type": "code",
   "execution_count": 1,
   "id": "altered-theorem",
   "metadata": {
    "execution": {
     "iopub.execute_input": "2021-04-27T06:53:04.175890Z",
     "iopub.status.busy": "2021-04-27T06:53:04.174143Z",
     "iopub.status.idle": "2021-04-27T06:53:05.103833Z",
     "shell.execute_reply": "2021-04-27T06:53:05.102384Z"
    },
    "papermill": {
     "duration": 0.970858,
     "end_time": "2021-04-27T06:53:05.104017",
     "exception": false,
     "start_time": "2021-04-27T06:53:04.133159",
     "status": "completed"
    },
    "tags": []
   },
   "outputs": [],
   "source": [
    "import pandas as pd\n",
    "import numpy as np\n",
    "import seaborn as sns\n",
    "import matplotlib.pyplot as plt"
   ]
  },
  {
   "cell_type": "markdown",
   "id": "preliminary-merchant",
   "metadata": {
    "papermill": {
     "duration": 0.036885,
     "end_time": "2021-04-27T06:53:05.177806",
     "exception": false,
     "start_time": "2021-04-27T06:53:05.140921",
     "status": "completed"
    },
    "tags": []
   },
   "source": [
    "# Import Data"
   ]
  },
  {
   "cell_type": "code",
   "execution_count": 2,
   "id": "compliant-distance",
   "metadata": {
    "execution": {
     "iopub.execute_input": "2021-04-27T06:53:05.257736Z",
     "iopub.status.busy": "2021-04-27T06:53:05.256867Z",
     "iopub.status.idle": "2021-04-27T06:53:05.301512Z",
     "shell.execute_reply": "2021-04-27T06:53:05.300403Z"
    },
    "papermill": {
     "duration": 0.087493,
     "end_time": "2021-04-27T06:53:05.301697",
     "exception": false,
     "start_time": "2021-04-27T06:53:05.214204",
     "status": "completed"
    },
    "tags": []
   },
   "outputs": [],
   "source": [
    "y = pd.read_csv('/kaggle/input/titanic/gender_submission.csv', index_col=0)\n",
    "x_test = pd.read_csv('/kaggle/input/titanic/test.csv', index_col=0)\n",
    "x_train = pd.read_csv('/kaggle/input/titanic/train.csv', index_col=0)"
   ]
  },
  {
   "cell_type": "code",
   "execution_count": 3,
   "id": "threatened-hopkins",
   "metadata": {
    "execution": {
     "iopub.execute_input": "2021-04-27T06:53:05.382969Z",
     "iopub.status.busy": "2021-04-27T06:53:05.382170Z",
     "iopub.status.idle": "2021-04-27T06:53:05.397547Z",
     "shell.execute_reply": "2021-04-27T06:53:05.397021Z"
    },
    "papermill": {
     "duration": 0.059706,
     "end_time": "2021-04-27T06:53:05.397691",
     "exception": false,
     "start_time": "2021-04-27T06:53:05.337985",
     "status": "completed"
    },
    "tags": []
   },
   "outputs": [
    {
     "data": {
      "text/html": [
       "<div>\n",
       "<style scoped>\n",
       "    .dataframe tbody tr th:only-of-type {\n",
       "        vertical-align: middle;\n",
       "    }\n",
       "\n",
       "    .dataframe tbody tr th {\n",
       "        vertical-align: top;\n",
       "    }\n",
       "\n",
       "    .dataframe thead th {\n",
       "        text-align: right;\n",
       "    }\n",
       "</style>\n",
       "<table border=\"1\" class=\"dataframe\">\n",
       "  <thead>\n",
       "    <tr style=\"text-align: right;\">\n",
       "      <th></th>\n",
       "      <th>Survived</th>\n",
       "    </tr>\n",
       "    <tr>\n",
       "      <th>PassengerId</th>\n",
       "      <th></th>\n",
       "    </tr>\n",
       "  </thead>\n",
       "  <tbody>\n",
       "    <tr>\n",
       "      <th>892</th>\n",
       "      <td>0</td>\n",
       "    </tr>\n",
       "    <tr>\n",
       "      <th>893</th>\n",
       "      <td>1</td>\n",
       "    </tr>\n",
       "    <tr>\n",
       "      <th>894</th>\n",
       "      <td>0</td>\n",
       "    </tr>\n",
       "    <tr>\n",
       "      <th>895</th>\n",
       "      <td>0</td>\n",
       "    </tr>\n",
       "    <tr>\n",
       "      <th>896</th>\n",
       "      <td>1</td>\n",
       "    </tr>\n",
       "    <tr>\n",
       "      <th>...</th>\n",
       "      <td>...</td>\n",
       "    </tr>\n",
       "    <tr>\n",
       "      <th>1305</th>\n",
       "      <td>0</td>\n",
       "    </tr>\n",
       "    <tr>\n",
       "      <th>1306</th>\n",
       "      <td>1</td>\n",
       "    </tr>\n",
       "    <tr>\n",
       "      <th>1307</th>\n",
       "      <td>0</td>\n",
       "    </tr>\n",
       "    <tr>\n",
       "      <th>1308</th>\n",
       "      <td>0</td>\n",
       "    </tr>\n",
       "    <tr>\n",
       "      <th>1309</th>\n",
       "      <td>0</td>\n",
       "    </tr>\n",
       "  </tbody>\n",
       "</table>\n",
       "<p>418 rows × 1 columns</p>\n",
       "</div>"
      ],
      "text/plain": [
       "             Survived\n",
       "PassengerId          \n",
       "892                 0\n",
       "893                 1\n",
       "894                 0\n",
       "895                 0\n",
       "896                 1\n",
       "...               ...\n",
       "1305                0\n",
       "1306                1\n",
       "1307                0\n",
       "1308                0\n",
       "1309                0\n",
       "\n",
       "[418 rows x 1 columns]"
      ]
     },
     "execution_count": 3,
     "metadata": {},
     "output_type": "execute_result"
    }
   ],
   "source": [
    "y"
   ]
  },
  {
   "cell_type": "code",
   "execution_count": 4,
   "id": "artistic-minnesota",
   "metadata": {
    "execution": {
     "iopub.execute_input": "2021-04-27T06:53:05.496769Z",
     "iopub.status.busy": "2021-04-27T06:53:05.477064Z",
     "iopub.status.idle": "2021-04-27T06:53:05.501899Z",
     "shell.execute_reply": "2021-04-27T06:53:05.501358Z"
    },
    "papermill": {
     "duration": 0.066883,
     "end_time": "2021-04-27T06:53:05.502047",
     "exception": false,
     "start_time": "2021-04-27T06:53:05.435164",
     "status": "completed"
    },
    "tags": []
   },
   "outputs": [
    {
     "data": {
      "text/html": [
       "<div>\n",
       "<style scoped>\n",
       "    .dataframe tbody tr th:only-of-type {\n",
       "        vertical-align: middle;\n",
       "    }\n",
       "\n",
       "    .dataframe tbody tr th {\n",
       "        vertical-align: top;\n",
       "    }\n",
       "\n",
       "    .dataframe thead th {\n",
       "        text-align: right;\n",
       "    }\n",
       "</style>\n",
       "<table border=\"1\" class=\"dataframe\">\n",
       "  <thead>\n",
       "    <tr style=\"text-align: right;\">\n",
       "      <th></th>\n",
       "      <th>Pclass</th>\n",
       "      <th>Name</th>\n",
       "      <th>Sex</th>\n",
       "      <th>Age</th>\n",
       "      <th>SibSp</th>\n",
       "      <th>Parch</th>\n",
       "      <th>Ticket</th>\n",
       "      <th>Fare</th>\n",
       "      <th>Cabin</th>\n",
       "      <th>Embarked</th>\n",
       "    </tr>\n",
       "    <tr>\n",
       "      <th>PassengerId</th>\n",
       "      <th></th>\n",
       "      <th></th>\n",
       "      <th></th>\n",
       "      <th></th>\n",
       "      <th></th>\n",
       "      <th></th>\n",
       "      <th></th>\n",
       "      <th></th>\n",
       "      <th></th>\n",
       "      <th></th>\n",
       "    </tr>\n",
       "  </thead>\n",
       "  <tbody>\n",
       "    <tr>\n",
       "      <th>892</th>\n",
       "      <td>3</td>\n",
       "      <td>Kelly, Mr. James</td>\n",
       "      <td>male</td>\n",
       "      <td>34.5</td>\n",
       "      <td>0</td>\n",
       "      <td>0</td>\n",
       "      <td>330911</td>\n",
       "      <td>7.8292</td>\n",
       "      <td>NaN</td>\n",
       "      <td>Q</td>\n",
       "    </tr>\n",
       "    <tr>\n",
       "      <th>893</th>\n",
       "      <td>3</td>\n",
       "      <td>Wilkes, Mrs. James (Ellen Needs)</td>\n",
       "      <td>female</td>\n",
       "      <td>47.0</td>\n",
       "      <td>1</td>\n",
       "      <td>0</td>\n",
       "      <td>363272</td>\n",
       "      <td>7.0000</td>\n",
       "      <td>NaN</td>\n",
       "      <td>S</td>\n",
       "    </tr>\n",
       "    <tr>\n",
       "      <th>894</th>\n",
       "      <td>2</td>\n",
       "      <td>Myles, Mr. Thomas Francis</td>\n",
       "      <td>male</td>\n",
       "      <td>62.0</td>\n",
       "      <td>0</td>\n",
       "      <td>0</td>\n",
       "      <td>240276</td>\n",
       "      <td>9.6875</td>\n",
       "      <td>NaN</td>\n",
       "      <td>Q</td>\n",
       "    </tr>\n",
       "    <tr>\n",
       "      <th>895</th>\n",
       "      <td>3</td>\n",
       "      <td>Wirz, Mr. Albert</td>\n",
       "      <td>male</td>\n",
       "      <td>27.0</td>\n",
       "      <td>0</td>\n",
       "      <td>0</td>\n",
       "      <td>315154</td>\n",
       "      <td>8.6625</td>\n",
       "      <td>NaN</td>\n",
       "      <td>S</td>\n",
       "    </tr>\n",
       "    <tr>\n",
       "      <th>896</th>\n",
       "      <td>3</td>\n",
       "      <td>Hirvonen, Mrs. Alexander (Helga E Lindqvist)</td>\n",
       "      <td>female</td>\n",
       "      <td>22.0</td>\n",
       "      <td>1</td>\n",
       "      <td>1</td>\n",
       "      <td>3101298</td>\n",
       "      <td>12.2875</td>\n",
       "      <td>NaN</td>\n",
       "      <td>S</td>\n",
       "    </tr>\n",
       "    <tr>\n",
       "      <th>...</th>\n",
       "      <td>...</td>\n",
       "      <td>...</td>\n",
       "      <td>...</td>\n",
       "      <td>...</td>\n",
       "      <td>...</td>\n",
       "      <td>...</td>\n",
       "      <td>...</td>\n",
       "      <td>...</td>\n",
       "      <td>...</td>\n",
       "      <td>...</td>\n",
       "    </tr>\n",
       "    <tr>\n",
       "      <th>1305</th>\n",
       "      <td>3</td>\n",
       "      <td>Spector, Mr. Woolf</td>\n",
       "      <td>male</td>\n",
       "      <td>NaN</td>\n",
       "      <td>0</td>\n",
       "      <td>0</td>\n",
       "      <td>A.5. 3236</td>\n",
       "      <td>8.0500</td>\n",
       "      <td>NaN</td>\n",
       "      <td>S</td>\n",
       "    </tr>\n",
       "    <tr>\n",
       "      <th>1306</th>\n",
       "      <td>1</td>\n",
       "      <td>Oliva y Ocana, Dona. Fermina</td>\n",
       "      <td>female</td>\n",
       "      <td>39.0</td>\n",
       "      <td>0</td>\n",
       "      <td>0</td>\n",
       "      <td>PC 17758</td>\n",
       "      <td>108.9000</td>\n",
       "      <td>C105</td>\n",
       "      <td>C</td>\n",
       "    </tr>\n",
       "    <tr>\n",
       "      <th>1307</th>\n",
       "      <td>3</td>\n",
       "      <td>Saether, Mr. Simon Sivertsen</td>\n",
       "      <td>male</td>\n",
       "      <td>38.5</td>\n",
       "      <td>0</td>\n",
       "      <td>0</td>\n",
       "      <td>SOTON/O.Q. 3101262</td>\n",
       "      <td>7.2500</td>\n",
       "      <td>NaN</td>\n",
       "      <td>S</td>\n",
       "    </tr>\n",
       "    <tr>\n",
       "      <th>1308</th>\n",
       "      <td>3</td>\n",
       "      <td>Ware, Mr. Frederick</td>\n",
       "      <td>male</td>\n",
       "      <td>NaN</td>\n",
       "      <td>0</td>\n",
       "      <td>0</td>\n",
       "      <td>359309</td>\n",
       "      <td>8.0500</td>\n",
       "      <td>NaN</td>\n",
       "      <td>S</td>\n",
       "    </tr>\n",
       "    <tr>\n",
       "      <th>1309</th>\n",
       "      <td>3</td>\n",
       "      <td>Peter, Master. Michael J</td>\n",
       "      <td>male</td>\n",
       "      <td>NaN</td>\n",
       "      <td>1</td>\n",
       "      <td>1</td>\n",
       "      <td>2668</td>\n",
       "      <td>22.3583</td>\n",
       "      <td>NaN</td>\n",
       "      <td>C</td>\n",
       "    </tr>\n",
       "  </tbody>\n",
       "</table>\n",
       "<p>418 rows × 10 columns</p>\n",
       "</div>"
      ],
      "text/plain": [
       "             Pclass                                          Name     Sex  \\\n",
       "PassengerId                                                                 \n",
       "892               3                              Kelly, Mr. James    male   \n",
       "893               3              Wilkes, Mrs. James (Ellen Needs)  female   \n",
       "894               2                     Myles, Mr. Thomas Francis    male   \n",
       "895               3                              Wirz, Mr. Albert    male   \n",
       "896               3  Hirvonen, Mrs. Alexander (Helga E Lindqvist)  female   \n",
       "...             ...                                           ...     ...   \n",
       "1305              3                            Spector, Mr. Woolf    male   \n",
       "1306              1                  Oliva y Ocana, Dona. Fermina  female   \n",
       "1307              3                  Saether, Mr. Simon Sivertsen    male   \n",
       "1308              3                           Ware, Mr. Frederick    male   \n",
       "1309              3                      Peter, Master. Michael J    male   \n",
       "\n",
       "              Age  SibSp  Parch              Ticket      Fare Cabin Embarked  \n",
       "PassengerId                                                                   \n",
       "892          34.5      0      0              330911    7.8292   NaN        Q  \n",
       "893          47.0      1      0              363272    7.0000   NaN        S  \n",
       "894          62.0      0      0              240276    9.6875   NaN        Q  \n",
       "895          27.0      0      0              315154    8.6625   NaN        S  \n",
       "896          22.0      1      1             3101298   12.2875   NaN        S  \n",
       "...           ...    ...    ...                 ...       ...   ...      ...  \n",
       "1305          NaN      0      0           A.5. 3236    8.0500   NaN        S  \n",
       "1306         39.0      0      0            PC 17758  108.9000  C105        C  \n",
       "1307         38.5      0      0  SOTON/O.Q. 3101262    7.2500   NaN        S  \n",
       "1308          NaN      0      0              359309    8.0500   NaN        S  \n",
       "1309          NaN      1      1                2668   22.3583   NaN        C  \n",
       "\n",
       "[418 rows x 10 columns]"
      ]
     },
     "execution_count": 4,
     "metadata": {},
     "output_type": "execute_result"
    }
   ],
   "source": [
    "x_test"
   ]
  },
  {
   "cell_type": "code",
   "execution_count": 5,
   "id": "constitutional-martial",
   "metadata": {
    "execution": {
     "iopub.execute_input": "2021-04-27T06:53:05.603905Z",
     "iopub.status.busy": "2021-04-27T06:53:05.602981Z",
     "iopub.status.idle": "2021-04-27T06:53:05.607781Z",
     "shell.execute_reply": "2021-04-27T06:53:05.607163Z"
    },
    "papermill": {
     "duration": 0.067212,
     "end_time": "2021-04-27T06:53:05.607915",
     "exception": false,
     "start_time": "2021-04-27T06:53:05.540703",
     "status": "completed"
    },
    "tags": []
   },
   "outputs": [
    {
     "data": {
      "text/html": [
       "<div>\n",
       "<style scoped>\n",
       "    .dataframe tbody tr th:only-of-type {\n",
       "        vertical-align: middle;\n",
       "    }\n",
       "\n",
       "    .dataframe tbody tr th {\n",
       "        vertical-align: top;\n",
       "    }\n",
       "\n",
       "    .dataframe thead th {\n",
       "        text-align: right;\n",
       "    }\n",
       "</style>\n",
       "<table border=\"1\" class=\"dataframe\">\n",
       "  <thead>\n",
       "    <tr style=\"text-align: right;\">\n",
       "      <th></th>\n",
       "      <th>Survived</th>\n",
       "      <th>Pclass</th>\n",
       "      <th>Name</th>\n",
       "      <th>Sex</th>\n",
       "      <th>Age</th>\n",
       "      <th>SibSp</th>\n",
       "      <th>Parch</th>\n",
       "      <th>Ticket</th>\n",
       "      <th>Fare</th>\n",
       "      <th>Cabin</th>\n",
       "      <th>Embarked</th>\n",
       "    </tr>\n",
       "    <tr>\n",
       "      <th>PassengerId</th>\n",
       "      <th></th>\n",
       "      <th></th>\n",
       "      <th></th>\n",
       "      <th></th>\n",
       "      <th></th>\n",
       "      <th></th>\n",
       "      <th></th>\n",
       "      <th></th>\n",
       "      <th></th>\n",
       "      <th></th>\n",
       "      <th></th>\n",
       "    </tr>\n",
       "  </thead>\n",
       "  <tbody>\n",
       "    <tr>\n",
       "      <th>1</th>\n",
       "      <td>0</td>\n",
       "      <td>3</td>\n",
       "      <td>Braund, Mr. Owen Harris</td>\n",
       "      <td>male</td>\n",
       "      <td>22.0</td>\n",
       "      <td>1</td>\n",
       "      <td>0</td>\n",
       "      <td>A/5 21171</td>\n",
       "      <td>7.2500</td>\n",
       "      <td>NaN</td>\n",
       "      <td>S</td>\n",
       "    </tr>\n",
       "    <tr>\n",
       "      <th>2</th>\n",
       "      <td>1</td>\n",
       "      <td>1</td>\n",
       "      <td>Cumings, Mrs. John Bradley (Florence Briggs Th...</td>\n",
       "      <td>female</td>\n",
       "      <td>38.0</td>\n",
       "      <td>1</td>\n",
       "      <td>0</td>\n",
       "      <td>PC 17599</td>\n",
       "      <td>71.2833</td>\n",
       "      <td>C85</td>\n",
       "      <td>C</td>\n",
       "    </tr>\n",
       "    <tr>\n",
       "      <th>3</th>\n",
       "      <td>1</td>\n",
       "      <td>3</td>\n",
       "      <td>Heikkinen, Miss. Laina</td>\n",
       "      <td>female</td>\n",
       "      <td>26.0</td>\n",
       "      <td>0</td>\n",
       "      <td>0</td>\n",
       "      <td>STON/O2. 3101282</td>\n",
       "      <td>7.9250</td>\n",
       "      <td>NaN</td>\n",
       "      <td>S</td>\n",
       "    </tr>\n",
       "    <tr>\n",
       "      <th>4</th>\n",
       "      <td>1</td>\n",
       "      <td>1</td>\n",
       "      <td>Futrelle, Mrs. Jacques Heath (Lily May Peel)</td>\n",
       "      <td>female</td>\n",
       "      <td>35.0</td>\n",
       "      <td>1</td>\n",
       "      <td>0</td>\n",
       "      <td>113803</td>\n",
       "      <td>53.1000</td>\n",
       "      <td>C123</td>\n",
       "      <td>S</td>\n",
       "    </tr>\n",
       "    <tr>\n",
       "      <th>5</th>\n",
       "      <td>0</td>\n",
       "      <td>3</td>\n",
       "      <td>Allen, Mr. William Henry</td>\n",
       "      <td>male</td>\n",
       "      <td>35.0</td>\n",
       "      <td>0</td>\n",
       "      <td>0</td>\n",
       "      <td>373450</td>\n",
       "      <td>8.0500</td>\n",
       "      <td>NaN</td>\n",
       "      <td>S</td>\n",
       "    </tr>\n",
       "    <tr>\n",
       "      <th>...</th>\n",
       "      <td>...</td>\n",
       "      <td>...</td>\n",
       "      <td>...</td>\n",
       "      <td>...</td>\n",
       "      <td>...</td>\n",
       "      <td>...</td>\n",
       "      <td>...</td>\n",
       "      <td>...</td>\n",
       "      <td>...</td>\n",
       "      <td>...</td>\n",
       "      <td>...</td>\n",
       "    </tr>\n",
       "    <tr>\n",
       "      <th>887</th>\n",
       "      <td>0</td>\n",
       "      <td>2</td>\n",
       "      <td>Montvila, Rev. Juozas</td>\n",
       "      <td>male</td>\n",
       "      <td>27.0</td>\n",
       "      <td>0</td>\n",
       "      <td>0</td>\n",
       "      <td>211536</td>\n",
       "      <td>13.0000</td>\n",
       "      <td>NaN</td>\n",
       "      <td>S</td>\n",
       "    </tr>\n",
       "    <tr>\n",
       "      <th>888</th>\n",
       "      <td>1</td>\n",
       "      <td>1</td>\n",
       "      <td>Graham, Miss. Margaret Edith</td>\n",
       "      <td>female</td>\n",
       "      <td>19.0</td>\n",
       "      <td>0</td>\n",
       "      <td>0</td>\n",
       "      <td>112053</td>\n",
       "      <td>30.0000</td>\n",
       "      <td>B42</td>\n",
       "      <td>S</td>\n",
       "    </tr>\n",
       "    <tr>\n",
       "      <th>889</th>\n",
       "      <td>0</td>\n",
       "      <td>3</td>\n",
       "      <td>Johnston, Miss. Catherine Helen \"Carrie\"</td>\n",
       "      <td>female</td>\n",
       "      <td>NaN</td>\n",
       "      <td>1</td>\n",
       "      <td>2</td>\n",
       "      <td>W./C. 6607</td>\n",
       "      <td>23.4500</td>\n",
       "      <td>NaN</td>\n",
       "      <td>S</td>\n",
       "    </tr>\n",
       "    <tr>\n",
       "      <th>890</th>\n",
       "      <td>1</td>\n",
       "      <td>1</td>\n",
       "      <td>Behr, Mr. Karl Howell</td>\n",
       "      <td>male</td>\n",
       "      <td>26.0</td>\n",
       "      <td>0</td>\n",
       "      <td>0</td>\n",
       "      <td>111369</td>\n",
       "      <td>30.0000</td>\n",
       "      <td>C148</td>\n",
       "      <td>C</td>\n",
       "    </tr>\n",
       "    <tr>\n",
       "      <th>891</th>\n",
       "      <td>0</td>\n",
       "      <td>3</td>\n",
       "      <td>Dooley, Mr. Patrick</td>\n",
       "      <td>male</td>\n",
       "      <td>32.0</td>\n",
       "      <td>0</td>\n",
       "      <td>0</td>\n",
       "      <td>370376</td>\n",
       "      <td>7.7500</td>\n",
       "      <td>NaN</td>\n",
       "      <td>Q</td>\n",
       "    </tr>\n",
       "  </tbody>\n",
       "</table>\n",
       "<p>891 rows × 11 columns</p>\n",
       "</div>"
      ],
      "text/plain": [
       "             Survived  Pclass  \\\n",
       "PassengerId                     \n",
       "1                   0       3   \n",
       "2                   1       1   \n",
       "3                   1       3   \n",
       "4                   1       1   \n",
       "5                   0       3   \n",
       "...               ...     ...   \n",
       "887                 0       2   \n",
       "888                 1       1   \n",
       "889                 0       3   \n",
       "890                 1       1   \n",
       "891                 0       3   \n",
       "\n",
       "                                                          Name     Sex   Age  \\\n",
       "PassengerId                                                                    \n",
       "1                                      Braund, Mr. Owen Harris    male  22.0   \n",
       "2            Cumings, Mrs. John Bradley (Florence Briggs Th...  female  38.0   \n",
       "3                                       Heikkinen, Miss. Laina  female  26.0   \n",
       "4                 Futrelle, Mrs. Jacques Heath (Lily May Peel)  female  35.0   \n",
       "5                                     Allen, Mr. William Henry    male  35.0   \n",
       "...                                                        ...     ...   ...   \n",
       "887                                      Montvila, Rev. Juozas    male  27.0   \n",
       "888                               Graham, Miss. Margaret Edith  female  19.0   \n",
       "889                   Johnston, Miss. Catherine Helen \"Carrie\"  female   NaN   \n",
       "890                                      Behr, Mr. Karl Howell    male  26.0   \n",
       "891                                        Dooley, Mr. Patrick    male  32.0   \n",
       "\n",
       "             SibSp  Parch            Ticket     Fare Cabin Embarked  \n",
       "PassengerId                                                          \n",
       "1                1      0         A/5 21171   7.2500   NaN        S  \n",
       "2                1      0          PC 17599  71.2833   C85        C  \n",
       "3                0      0  STON/O2. 3101282   7.9250   NaN        S  \n",
       "4                1      0            113803  53.1000  C123        S  \n",
       "5                0      0            373450   8.0500   NaN        S  \n",
       "...            ...    ...               ...      ...   ...      ...  \n",
       "887              0      0            211536  13.0000   NaN        S  \n",
       "888              0      0            112053  30.0000   B42        S  \n",
       "889              1      2        W./C. 6607  23.4500   NaN        S  \n",
       "890              0      0            111369  30.0000  C148        C  \n",
       "891              0      0            370376   7.7500   NaN        Q  \n",
       "\n",
       "[891 rows x 11 columns]"
      ]
     },
     "execution_count": 5,
     "metadata": {},
     "output_type": "execute_result"
    }
   ],
   "source": [
    "x_train"
   ]
  },
  {
   "cell_type": "markdown",
   "id": "temporal-endorsement",
   "metadata": {
    "papermill": {
     "duration": 0.038029,
     "end_time": "2021-04-27T06:53:05.684124",
     "exception": false,
     "start_time": "2021-04-27T06:53:05.646095",
     "status": "completed"
    },
    "tags": []
   },
   "source": [
    "# Data Preparation"
   ]
  },
  {
   "cell_type": "code",
   "execution_count": 6,
   "id": "knowing-intervention",
   "metadata": {
    "execution": {
     "iopub.execute_input": "2021-04-27T06:53:05.770461Z",
     "iopub.status.busy": "2021-04-27T06:53:05.769679Z",
     "iopub.status.idle": "2021-04-27T06:53:05.773236Z",
     "shell.execute_reply": "2021-04-27T06:53:05.773694Z"
    },
    "papermill": {
     "duration": 0.05049,
     "end_time": "2021-04-27T06:53:05.773863",
     "exception": false,
     "start_time": "2021-04-27T06:53:05.723373",
     "status": "completed"
    },
    "tags": []
   },
   "outputs": [
    {
     "data": {
      "text/plain": [
       "Survived      0\n",
       "Pclass        0\n",
       "Name          0\n",
       "Sex           0\n",
       "Age         177\n",
       "SibSp         0\n",
       "Parch         0\n",
       "Ticket        0\n",
       "Fare          0\n",
       "Cabin       687\n",
       "Embarked      2\n",
       "dtype: int64"
      ]
     },
     "execution_count": 6,
     "metadata": {},
     "output_type": "execute_result"
    }
   ],
   "source": [
    "x_train.isnull().sum()"
   ]
  },
  {
   "cell_type": "code",
   "execution_count": 7,
   "id": "outdoor-barrier",
   "metadata": {
    "execution": {
     "iopub.execute_input": "2021-04-27T06:53:05.859224Z",
     "iopub.status.busy": "2021-04-27T06:53:05.858585Z",
     "iopub.status.idle": "2021-04-27T06:53:05.861729Z",
     "shell.execute_reply": "2021-04-27T06:53:05.862210Z"
    },
    "papermill": {
     "duration": 0.050058,
     "end_time": "2021-04-27T06:53:05.862374",
     "exception": false,
     "start_time": "2021-04-27T06:53:05.812316",
     "status": "completed"
    },
    "tags": []
   },
   "outputs": [
    {
     "data": {
      "text/plain": [
       "Pclass        0\n",
       "Name          0\n",
       "Sex           0\n",
       "Age          86\n",
       "SibSp         0\n",
       "Parch         0\n",
       "Ticket        0\n",
       "Fare          1\n",
       "Cabin       327\n",
       "Embarked      0\n",
       "dtype: int64"
      ]
     },
     "execution_count": 7,
     "metadata": {},
     "output_type": "execute_result"
    }
   ],
   "source": [
    "x_test.isnull().sum()"
   ]
  },
  {
   "cell_type": "code",
   "execution_count": 8,
   "id": "mediterranean-cleveland",
   "metadata": {
    "execution": {
     "iopub.execute_input": "2021-04-27T06:53:05.951262Z",
     "iopub.status.busy": "2021-04-27T06:53:05.950246Z",
     "iopub.status.idle": "2021-04-27T06:53:05.977476Z",
     "shell.execute_reply": "2021-04-27T06:53:05.976974Z"
    },
    "papermill": {
     "duration": 0.076318,
     "end_time": "2021-04-27T06:53:05.977632",
     "exception": false,
     "start_time": "2021-04-27T06:53:05.901314",
     "status": "completed"
    },
    "tags": []
   },
   "outputs": [
    {
     "data": {
      "text/html": [
       "<div>\n",
       "<style scoped>\n",
       "    .dataframe tbody tr th:only-of-type {\n",
       "        vertical-align: middle;\n",
       "    }\n",
       "\n",
       "    .dataframe tbody tr th {\n",
       "        vertical-align: top;\n",
       "    }\n",
       "\n",
       "    .dataframe thead th {\n",
       "        text-align: right;\n",
       "    }\n",
       "</style>\n",
       "<table border=\"1\" class=\"dataframe\">\n",
       "  <thead>\n",
       "    <tr style=\"text-align: right;\">\n",
       "      <th></th>\n",
       "      <th>Survived</th>\n",
       "      <th>Pclass</th>\n",
       "      <th>Age</th>\n",
       "      <th>SibSp</th>\n",
       "      <th>Parch</th>\n",
       "      <th>Fare</th>\n",
       "    </tr>\n",
       "  </thead>\n",
       "  <tbody>\n",
       "    <tr>\n",
       "      <th>count</th>\n",
       "      <td>891.000000</td>\n",
       "      <td>891.000000</td>\n",
       "      <td>714.000000</td>\n",
       "      <td>891.000000</td>\n",
       "      <td>891.000000</td>\n",
       "      <td>891.000000</td>\n",
       "    </tr>\n",
       "    <tr>\n",
       "      <th>mean</th>\n",
       "      <td>0.383838</td>\n",
       "      <td>2.308642</td>\n",
       "      <td>29.699118</td>\n",
       "      <td>0.523008</td>\n",
       "      <td>0.381594</td>\n",
       "      <td>32.204208</td>\n",
       "    </tr>\n",
       "    <tr>\n",
       "      <th>std</th>\n",
       "      <td>0.486592</td>\n",
       "      <td>0.836071</td>\n",
       "      <td>14.526497</td>\n",
       "      <td>1.102743</td>\n",
       "      <td>0.806057</td>\n",
       "      <td>49.693429</td>\n",
       "    </tr>\n",
       "    <tr>\n",
       "      <th>min</th>\n",
       "      <td>0.000000</td>\n",
       "      <td>1.000000</td>\n",
       "      <td>0.420000</td>\n",
       "      <td>0.000000</td>\n",
       "      <td>0.000000</td>\n",
       "      <td>0.000000</td>\n",
       "    </tr>\n",
       "    <tr>\n",
       "      <th>25%</th>\n",
       "      <td>0.000000</td>\n",
       "      <td>2.000000</td>\n",
       "      <td>20.125000</td>\n",
       "      <td>0.000000</td>\n",
       "      <td>0.000000</td>\n",
       "      <td>7.910400</td>\n",
       "    </tr>\n",
       "    <tr>\n",
       "      <th>50%</th>\n",
       "      <td>0.000000</td>\n",
       "      <td>3.000000</td>\n",
       "      <td>28.000000</td>\n",
       "      <td>0.000000</td>\n",
       "      <td>0.000000</td>\n",
       "      <td>14.454200</td>\n",
       "    </tr>\n",
       "    <tr>\n",
       "      <th>75%</th>\n",
       "      <td>1.000000</td>\n",
       "      <td>3.000000</td>\n",
       "      <td>38.000000</td>\n",
       "      <td>1.000000</td>\n",
       "      <td>0.000000</td>\n",
       "      <td>31.000000</td>\n",
       "    </tr>\n",
       "    <tr>\n",
       "      <th>max</th>\n",
       "      <td>1.000000</td>\n",
       "      <td>3.000000</td>\n",
       "      <td>80.000000</td>\n",
       "      <td>8.000000</td>\n",
       "      <td>6.000000</td>\n",
       "      <td>512.329200</td>\n",
       "    </tr>\n",
       "  </tbody>\n",
       "</table>\n",
       "</div>"
      ],
      "text/plain": [
       "         Survived      Pclass         Age       SibSp       Parch        Fare\n",
       "count  891.000000  891.000000  714.000000  891.000000  891.000000  891.000000\n",
       "mean     0.383838    2.308642   29.699118    0.523008    0.381594   32.204208\n",
       "std      0.486592    0.836071   14.526497    1.102743    0.806057   49.693429\n",
       "min      0.000000    1.000000    0.420000    0.000000    0.000000    0.000000\n",
       "25%      0.000000    2.000000   20.125000    0.000000    0.000000    7.910400\n",
       "50%      0.000000    3.000000   28.000000    0.000000    0.000000   14.454200\n",
       "75%      1.000000    3.000000   38.000000    1.000000    0.000000   31.000000\n",
       "max      1.000000    3.000000   80.000000    8.000000    6.000000  512.329200"
      ]
     },
     "execution_count": 8,
     "metadata": {},
     "output_type": "execute_result"
    }
   ],
   "source": [
    "x_train.describe()"
   ]
  },
  {
   "cell_type": "code",
   "execution_count": 9,
   "id": "international-sport",
   "metadata": {
    "execution": {
     "iopub.execute_input": "2021-04-27T06:53:06.205226Z",
     "iopub.status.busy": "2021-04-27T06:53:06.151350Z",
     "iopub.status.idle": "2021-04-27T06:53:06.235420Z",
     "shell.execute_reply": "2021-04-27T06:53:06.235981Z"
    },
    "papermill": {
     "duration": 0.21852,
     "end_time": "2021-04-27T06:53:06.236155",
     "exception": false,
     "start_time": "2021-04-27T06:53:06.017635",
     "status": "completed"
    },
    "tags": []
   },
   "outputs": [
    {
     "name": "stderr",
     "output_type": "stream",
     "text": [
      "/opt/conda/lib/python3.7/site-packages/ipykernel_launcher.py:8: SettingWithCopyWarning: \n",
      "A value is trying to be set on a copy of a slice from a DataFrame\n",
      "\n",
      "See the caveats in the documentation: https://pandas.pydata.org/pandas-docs/stable/user_guide/indexing.html#returning-a-view-versus-a-copy\n",
      "  \n"
     ]
    },
    {
     "data": {
      "text/html": [
       "<div>\n",
       "<style scoped>\n",
       "    .dataframe tbody tr th:only-of-type {\n",
       "        vertical-align: middle;\n",
       "    }\n",
       "\n",
       "    .dataframe tbody tr th {\n",
       "        vertical-align: top;\n",
       "    }\n",
       "\n",
       "    .dataframe thead th {\n",
       "        text-align: right;\n",
       "    }\n",
       "</style>\n",
       "<table border=\"1\" class=\"dataframe\">\n",
       "  <thead>\n",
       "    <tr style=\"text-align: right;\">\n",
       "      <th></th>\n",
       "      <th>Survived</th>\n",
       "      <th>Pclass</th>\n",
       "      <th>Name</th>\n",
       "      <th>Sex</th>\n",
       "      <th>Age</th>\n",
       "      <th>SibSp</th>\n",
       "      <th>Parch</th>\n",
       "      <th>Ticket</th>\n",
       "      <th>Fare</th>\n",
       "      <th>Cabin</th>\n",
       "      <th>Embarked</th>\n",
       "    </tr>\n",
       "    <tr>\n",
       "      <th>PassengerId</th>\n",
       "      <th></th>\n",
       "      <th></th>\n",
       "      <th></th>\n",
       "      <th></th>\n",
       "      <th></th>\n",
       "      <th></th>\n",
       "      <th></th>\n",
       "      <th></th>\n",
       "      <th></th>\n",
       "      <th></th>\n",
       "      <th></th>\n",
       "    </tr>\n",
       "  </thead>\n",
       "  <tbody>\n",
       "    <tr>\n",
       "      <th>1</th>\n",
       "      <td>0</td>\n",
       "      <td>3</td>\n",
       "      <td>Braund, Mr. Owen Harris</td>\n",
       "      <td>1</td>\n",
       "      <td>22.0</td>\n",
       "      <td>1</td>\n",
       "      <td>0</td>\n",
       "      <td>A/5 21171</td>\n",
       "      <td>7.2500</td>\n",
       "      <td>0</td>\n",
       "      <td>2.0</td>\n",
       "    </tr>\n",
       "    <tr>\n",
       "      <th>2</th>\n",
       "      <td>1</td>\n",
       "      <td>1</td>\n",
       "      <td>Cumings, Mrs. John Bradley (Florence Briggs Th...</td>\n",
       "      <td>0</td>\n",
       "      <td>38.0</td>\n",
       "      <td>1</td>\n",
       "      <td>0</td>\n",
       "      <td>PC 17599</td>\n",
       "      <td>71.2833</td>\n",
       "      <td>1</td>\n",
       "      <td>0.0</td>\n",
       "    </tr>\n",
       "    <tr>\n",
       "      <th>3</th>\n",
       "      <td>1</td>\n",
       "      <td>3</td>\n",
       "      <td>Heikkinen, Miss. Laina</td>\n",
       "      <td>0</td>\n",
       "      <td>26.0</td>\n",
       "      <td>0</td>\n",
       "      <td>0</td>\n",
       "      <td>STON/O2. 3101282</td>\n",
       "      <td>7.9250</td>\n",
       "      <td>0</td>\n",
       "      <td>2.0</td>\n",
       "    </tr>\n",
       "    <tr>\n",
       "      <th>4</th>\n",
       "      <td>1</td>\n",
       "      <td>1</td>\n",
       "      <td>Futrelle, Mrs. Jacques Heath (Lily May Peel)</td>\n",
       "      <td>0</td>\n",
       "      <td>35.0</td>\n",
       "      <td>1</td>\n",
       "      <td>0</td>\n",
       "      <td>113803</td>\n",
       "      <td>53.1000</td>\n",
       "      <td>1</td>\n",
       "      <td>2.0</td>\n",
       "    </tr>\n",
       "    <tr>\n",
       "      <th>5</th>\n",
       "      <td>0</td>\n",
       "      <td>3</td>\n",
       "      <td>Allen, Mr. William Henry</td>\n",
       "      <td>1</td>\n",
       "      <td>35.0</td>\n",
       "      <td>0</td>\n",
       "      <td>0</td>\n",
       "      <td>373450</td>\n",
       "      <td>8.0500</td>\n",
       "      <td>0</td>\n",
       "      <td>2.0</td>\n",
       "    </tr>\n",
       "    <tr>\n",
       "      <th>...</th>\n",
       "      <td>...</td>\n",
       "      <td>...</td>\n",
       "      <td>...</td>\n",
       "      <td>...</td>\n",
       "      <td>...</td>\n",
       "      <td>...</td>\n",
       "      <td>...</td>\n",
       "      <td>...</td>\n",
       "      <td>...</td>\n",
       "      <td>...</td>\n",
       "      <td>...</td>\n",
       "    </tr>\n",
       "    <tr>\n",
       "      <th>887</th>\n",
       "      <td>0</td>\n",
       "      <td>2</td>\n",
       "      <td>Montvila, Rev. Juozas</td>\n",
       "      <td>1</td>\n",
       "      <td>27.0</td>\n",
       "      <td>0</td>\n",
       "      <td>0</td>\n",
       "      <td>211536</td>\n",
       "      <td>13.0000</td>\n",
       "      <td>0</td>\n",
       "      <td>2.0</td>\n",
       "    </tr>\n",
       "    <tr>\n",
       "      <th>888</th>\n",
       "      <td>1</td>\n",
       "      <td>1</td>\n",
       "      <td>Graham, Miss. Margaret Edith</td>\n",
       "      <td>0</td>\n",
       "      <td>19.0</td>\n",
       "      <td>0</td>\n",
       "      <td>0</td>\n",
       "      <td>112053</td>\n",
       "      <td>30.0000</td>\n",
       "      <td>1</td>\n",
       "      <td>2.0</td>\n",
       "    </tr>\n",
       "    <tr>\n",
       "      <th>889</th>\n",
       "      <td>0</td>\n",
       "      <td>3</td>\n",
       "      <td>Johnston, Miss. Catherine Helen \"Carrie\"</td>\n",
       "      <td>0</td>\n",
       "      <td>28.0</td>\n",
       "      <td>1</td>\n",
       "      <td>2</td>\n",
       "      <td>W./C. 6607</td>\n",
       "      <td>23.4500</td>\n",
       "      <td>0</td>\n",
       "      <td>2.0</td>\n",
       "    </tr>\n",
       "    <tr>\n",
       "      <th>890</th>\n",
       "      <td>1</td>\n",
       "      <td>1</td>\n",
       "      <td>Behr, Mr. Karl Howell</td>\n",
       "      <td>1</td>\n",
       "      <td>26.0</td>\n",
       "      <td>0</td>\n",
       "      <td>0</td>\n",
       "      <td>111369</td>\n",
       "      <td>30.0000</td>\n",
       "      <td>1</td>\n",
       "      <td>0.0</td>\n",
       "    </tr>\n",
       "    <tr>\n",
       "      <th>891</th>\n",
       "      <td>0</td>\n",
       "      <td>3</td>\n",
       "      <td>Dooley, Mr. Patrick</td>\n",
       "      <td>1</td>\n",
       "      <td>32.0</td>\n",
       "      <td>0</td>\n",
       "      <td>0</td>\n",
       "      <td>370376</td>\n",
       "      <td>7.7500</td>\n",
       "      <td>0</td>\n",
       "      <td>1.0</td>\n",
       "    </tr>\n",
       "  </tbody>\n",
       "</table>\n",
       "<p>891 rows × 11 columns</p>\n",
       "</div>"
      ],
      "text/plain": [
       "             Survived  Pclass  \\\n",
       "PassengerId                     \n",
       "1                   0       3   \n",
       "2                   1       1   \n",
       "3                   1       3   \n",
       "4                   1       1   \n",
       "5                   0       3   \n",
       "...               ...     ...   \n",
       "887                 0       2   \n",
       "888                 1       1   \n",
       "889                 0       3   \n",
       "890                 1       1   \n",
       "891                 0       3   \n",
       "\n",
       "                                                          Name  Sex   Age  \\\n",
       "PassengerId                                                                 \n",
       "1                                      Braund, Mr. Owen Harris    1  22.0   \n",
       "2            Cumings, Mrs. John Bradley (Florence Briggs Th...    0  38.0   \n",
       "3                                       Heikkinen, Miss. Laina    0  26.0   \n",
       "4                 Futrelle, Mrs. Jacques Heath (Lily May Peel)    0  35.0   \n",
       "5                                     Allen, Mr. William Henry    1  35.0   \n",
       "...                                                        ...  ...   ...   \n",
       "887                                      Montvila, Rev. Juozas    1  27.0   \n",
       "888                               Graham, Miss. Margaret Edith    0  19.0   \n",
       "889                   Johnston, Miss. Catherine Helen \"Carrie\"    0  28.0   \n",
       "890                                      Behr, Mr. Karl Howell    1  26.0   \n",
       "891                                        Dooley, Mr. Patrick    1  32.0   \n",
       "\n",
       "             SibSp  Parch            Ticket     Fare Cabin  Embarked  \n",
       "PassengerId                                                           \n",
       "1                1      0         A/5 21171   7.2500     0       2.0  \n",
       "2                1      0          PC 17599  71.2833     1       0.0  \n",
       "3                0      0  STON/O2. 3101282   7.9250     0       2.0  \n",
       "4                1      0            113803  53.1000     1       2.0  \n",
       "5                0      0            373450   8.0500     0       2.0  \n",
       "...            ...    ...               ...      ...   ...       ...  \n",
       "887              0      0            211536  13.0000     0       2.0  \n",
       "888              0      0            112053  30.0000     1       2.0  \n",
       "889              1      2        W./C. 6607  23.4500     0       2.0  \n",
       "890              0      0            111369  30.0000     1       0.0  \n",
       "891              0      0            370376   7.7500     0       1.0  \n",
       "\n",
       "[891 rows x 11 columns]"
      ]
     },
     "execution_count": 9,
     "metadata": {},
     "output_type": "execute_result"
    }
   ],
   "source": [
    "# Fill null value in Age with medean value \"28\"\n",
    "x_train.Age = x_train.Age.fillna(value=28)\n",
    "\n",
    "# Fill null value in Cabin with \"0\" and other value with \"1\"\n",
    "x_train.Cabin = x_train.Cabin.fillna(value=0)\n",
    "for i in range(1, 892):\n",
    "    if x_train.Cabin[i] != 0:\n",
    "        x_train.Cabin[i] = 1\n",
    "\n",
    "# Change \"Sex\" Value female = 0 & male = 1\n",
    "sex = {'male': 1, 'female':0}\n",
    "x_train.Sex = x_train.Sex.replace(sex)\n",
    "\n",
    "# Change \"Embarked\" value C=0, Q=1, S=2\n",
    "embarked = {'C':0, 'Q':1, 'S':2}\n",
    "x_train.Embarked = x_train.Embarked.replace(embarked)\n",
    "x_train"
   ]
  },
  {
   "cell_type": "code",
   "execution_count": 10,
   "id": "permanent-sensitivity",
   "metadata": {
    "execution": {
     "iopub.execute_input": "2021-04-27T06:53:06.328503Z",
     "iopub.status.busy": "2021-04-27T06:53:06.327752Z",
     "iopub.status.idle": "2021-04-27T06:53:06.332265Z",
     "shell.execute_reply": "2021-04-27T06:53:06.331713Z"
    },
    "papermill": {
     "duration": 0.054219,
     "end_time": "2021-04-27T06:53:06.332410",
     "exception": false,
     "start_time": "2021-04-27T06:53:06.278191",
     "status": "completed"
    },
    "tags": []
   },
   "outputs": [
    {
     "data": {
      "text/plain": [
       "Survived    0\n",
       "Pclass      0\n",
       "Name        0\n",
       "Sex         0\n",
       "Age         0\n",
       "SibSp       0\n",
       "Parch       0\n",
       "Ticket      0\n",
       "Fare        0\n",
       "Cabin       0\n",
       "Embarked    2\n",
       "dtype: int64"
      ]
     },
     "execution_count": 10,
     "metadata": {},
     "output_type": "execute_result"
    }
   ],
   "source": [
    "x_train.isna().sum()"
   ]
  },
  {
   "cell_type": "code",
   "execution_count": 11,
   "id": "biological-damages",
   "metadata": {
    "execution": {
     "iopub.execute_input": "2021-04-27T06:53:06.423328Z",
     "iopub.status.busy": "2021-04-27T06:53:06.422319Z",
     "iopub.status.idle": "2021-04-27T06:53:06.430900Z",
     "shell.execute_reply": "2021-04-27T06:53:06.430258Z"
    },
    "papermill": {
     "duration": 0.056867,
     "end_time": "2021-04-27T06:53:06.431047",
     "exception": false,
     "start_time": "2021-04-27T06:53:06.374180",
     "status": "completed"
    },
    "tags": []
   },
   "outputs": [
    {
     "data": {
      "text/plain": [
       "count    889.000000\n",
       "mean       1.535433\n",
       "std        0.792088\n",
       "min        0.000000\n",
       "25%        1.000000\n",
       "50%        2.000000\n",
       "75%        2.000000\n",
       "max        2.000000\n",
       "Name: Embarked, dtype: float64"
      ]
     },
     "execution_count": 11,
     "metadata": {},
     "output_type": "execute_result"
    }
   ],
   "source": [
    "x_train.Embarked.describe()"
   ]
  },
  {
   "cell_type": "code",
   "execution_count": 12,
   "id": "metric-distinction",
   "metadata": {
    "execution": {
     "iopub.execute_input": "2021-04-27T06:53:06.526997Z",
     "iopub.status.busy": "2021-04-27T06:53:06.525861Z",
     "iopub.status.idle": "2021-04-27T06:53:06.528973Z",
     "shell.execute_reply": "2021-04-27T06:53:06.529453Z"
    },
    "papermill": {
     "duration": 0.054999,
     "end_time": "2021-04-27T06:53:06.529635",
     "exception": false,
     "start_time": "2021-04-27T06:53:06.474636",
     "status": "completed"
    },
    "tags": []
   },
   "outputs": [
    {
     "data": {
      "text/plain": [
       "Survived    0\n",
       "Pclass      0\n",
       "Name        0\n",
       "Sex         0\n",
       "Age         0\n",
       "SibSp       0\n",
       "Parch       0\n",
       "Ticket      0\n",
       "Fare        0\n",
       "Cabin       0\n",
       "Embarked    0\n",
       "dtype: int64"
      ]
     },
     "execution_count": 12,
     "metadata": {},
     "output_type": "execute_result"
    }
   ],
   "source": [
    "# Fill Null value in Embarked with \"2\"\n",
    "x_train.Embarked = x_train.Embarked.fillna(value=2)\n",
    "x_train.isnull().sum()"
   ]
  },
  {
   "cell_type": "code",
   "execution_count": 13,
   "id": "musical-amsterdam",
   "metadata": {
    "execution": {
     "iopub.execute_input": "2021-04-27T06:53:06.618957Z",
     "iopub.status.busy": "2021-04-27T06:53:06.618323Z",
     "iopub.status.idle": "2021-04-27T06:53:06.643179Z",
     "shell.execute_reply": "2021-04-27T06:53:06.643737Z"
    },
    "papermill": {
     "duration": 0.071692,
     "end_time": "2021-04-27T06:53:06.643917",
     "exception": false,
     "start_time": "2021-04-27T06:53:06.572225",
     "status": "completed"
    },
    "tags": []
   },
   "outputs": [
    {
     "data": {
      "text/html": [
       "<div>\n",
       "<style scoped>\n",
       "    .dataframe tbody tr th:only-of-type {\n",
       "        vertical-align: middle;\n",
       "    }\n",
       "\n",
       "    .dataframe tbody tr th {\n",
       "        vertical-align: top;\n",
       "    }\n",
       "\n",
       "    .dataframe thead th {\n",
       "        text-align: right;\n",
       "    }\n",
       "</style>\n",
       "<table border=\"1\" class=\"dataframe\">\n",
       "  <thead>\n",
       "    <tr style=\"text-align: right;\">\n",
       "      <th></th>\n",
       "      <th>Pclass</th>\n",
       "      <th>Age</th>\n",
       "      <th>SibSp</th>\n",
       "      <th>Parch</th>\n",
       "      <th>Fare</th>\n",
       "    </tr>\n",
       "  </thead>\n",
       "  <tbody>\n",
       "    <tr>\n",
       "      <th>count</th>\n",
       "      <td>418.000000</td>\n",
       "      <td>332.000000</td>\n",
       "      <td>418.000000</td>\n",
       "      <td>418.000000</td>\n",
       "      <td>417.000000</td>\n",
       "    </tr>\n",
       "    <tr>\n",
       "      <th>mean</th>\n",
       "      <td>2.265550</td>\n",
       "      <td>30.272590</td>\n",
       "      <td>0.447368</td>\n",
       "      <td>0.392344</td>\n",
       "      <td>35.627188</td>\n",
       "    </tr>\n",
       "    <tr>\n",
       "      <th>std</th>\n",
       "      <td>0.841838</td>\n",
       "      <td>14.181209</td>\n",
       "      <td>0.896760</td>\n",
       "      <td>0.981429</td>\n",
       "      <td>55.907576</td>\n",
       "    </tr>\n",
       "    <tr>\n",
       "      <th>min</th>\n",
       "      <td>1.000000</td>\n",
       "      <td>0.170000</td>\n",
       "      <td>0.000000</td>\n",
       "      <td>0.000000</td>\n",
       "      <td>0.000000</td>\n",
       "    </tr>\n",
       "    <tr>\n",
       "      <th>25%</th>\n",
       "      <td>1.000000</td>\n",
       "      <td>21.000000</td>\n",
       "      <td>0.000000</td>\n",
       "      <td>0.000000</td>\n",
       "      <td>7.895800</td>\n",
       "    </tr>\n",
       "    <tr>\n",
       "      <th>50%</th>\n",
       "      <td>3.000000</td>\n",
       "      <td>27.000000</td>\n",
       "      <td>0.000000</td>\n",
       "      <td>0.000000</td>\n",
       "      <td>14.454200</td>\n",
       "    </tr>\n",
       "    <tr>\n",
       "      <th>75%</th>\n",
       "      <td>3.000000</td>\n",
       "      <td>39.000000</td>\n",
       "      <td>1.000000</td>\n",
       "      <td>0.000000</td>\n",
       "      <td>31.500000</td>\n",
       "    </tr>\n",
       "    <tr>\n",
       "      <th>max</th>\n",
       "      <td>3.000000</td>\n",
       "      <td>76.000000</td>\n",
       "      <td>8.000000</td>\n",
       "      <td>9.000000</td>\n",
       "      <td>512.329200</td>\n",
       "    </tr>\n",
       "  </tbody>\n",
       "</table>\n",
       "</div>"
      ],
      "text/plain": [
       "           Pclass         Age       SibSp       Parch        Fare\n",
       "count  418.000000  332.000000  418.000000  418.000000  417.000000\n",
       "mean     2.265550   30.272590    0.447368    0.392344   35.627188\n",
       "std      0.841838   14.181209    0.896760    0.981429   55.907576\n",
       "min      1.000000    0.170000    0.000000    0.000000    0.000000\n",
       "25%      1.000000   21.000000    0.000000    0.000000    7.895800\n",
       "50%      3.000000   27.000000    0.000000    0.000000   14.454200\n",
       "75%      3.000000   39.000000    1.000000    0.000000   31.500000\n",
       "max      3.000000   76.000000    8.000000    9.000000  512.329200"
      ]
     },
     "execution_count": 13,
     "metadata": {},
     "output_type": "execute_result"
    }
   ],
   "source": [
    "x_test.describe()"
   ]
  },
  {
   "cell_type": "code",
   "execution_count": 14,
   "id": "social-standard",
   "metadata": {
    "execution": {
     "iopub.execute_input": "2021-04-27T06:53:06.735661Z",
     "iopub.status.busy": "2021-04-27T06:53:06.734982Z",
     "iopub.status.idle": "2021-04-27T06:53:06.820056Z",
     "shell.execute_reply": "2021-04-27T06:53:06.819423Z"
    },
    "papermill": {
     "duration": 0.132057,
     "end_time": "2021-04-27T06:53:06.820201",
     "exception": false,
     "start_time": "2021-04-27T06:53:06.688144",
     "status": "completed"
    },
    "tags": []
   },
   "outputs": [
    {
     "name": "stderr",
     "output_type": "stream",
     "text": [
      "/opt/conda/lib/python3.7/site-packages/ipykernel_launcher.py:8: SettingWithCopyWarning: \n",
      "A value is trying to be set on a copy of a slice from a DataFrame\n",
      "\n",
      "See the caveats in the documentation: https://pandas.pydata.org/pandas-docs/stable/user_guide/indexing.html#returning-a-view-versus-a-copy\n",
      "  \n"
     ]
    },
    {
     "data": {
      "text/html": [
       "<div>\n",
       "<style scoped>\n",
       "    .dataframe tbody tr th:only-of-type {\n",
       "        vertical-align: middle;\n",
       "    }\n",
       "\n",
       "    .dataframe tbody tr th {\n",
       "        vertical-align: top;\n",
       "    }\n",
       "\n",
       "    .dataframe thead th {\n",
       "        text-align: right;\n",
       "    }\n",
       "</style>\n",
       "<table border=\"1\" class=\"dataframe\">\n",
       "  <thead>\n",
       "    <tr style=\"text-align: right;\">\n",
       "      <th></th>\n",
       "      <th>Pclass</th>\n",
       "      <th>Name</th>\n",
       "      <th>Sex</th>\n",
       "      <th>Age</th>\n",
       "      <th>SibSp</th>\n",
       "      <th>Parch</th>\n",
       "      <th>Ticket</th>\n",
       "      <th>Fare</th>\n",
       "      <th>Cabin</th>\n",
       "      <th>Embarked</th>\n",
       "    </tr>\n",
       "    <tr>\n",
       "      <th>PassengerId</th>\n",
       "      <th></th>\n",
       "      <th></th>\n",
       "      <th></th>\n",
       "      <th></th>\n",
       "      <th></th>\n",
       "      <th></th>\n",
       "      <th></th>\n",
       "      <th></th>\n",
       "      <th></th>\n",
       "      <th></th>\n",
       "    </tr>\n",
       "  </thead>\n",
       "  <tbody>\n",
       "    <tr>\n",
       "      <th>892</th>\n",
       "      <td>3</td>\n",
       "      <td>Kelly, Mr. James</td>\n",
       "      <td>1</td>\n",
       "      <td>34.5</td>\n",
       "      <td>0</td>\n",
       "      <td>0</td>\n",
       "      <td>330911</td>\n",
       "      <td>7.8292</td>\n",
       "      <td>0</td>\n",
       "      <td>1</td>\n",
       "    </tr>\n",
       "    <tr>\n",
       "      <th>893</th>\n",
       "      <td>3</td>\n",
       "      <td>Wilkes, Mrs. James (Ellen Needs)</td>\n",
       "      <td>0</td>\n",
       "      <td>47.0</td>\n",
       "      <td>1</td>\n",
       "      <td>0</td>\n",
       "      <td>363272</td>\n",
       "      <td>7.0000</td>\n",
       "      <td>0</td>\n",
       "      <td>2</td>\n",
       "    </tr>\n",
       "    <tr>\n",
       "      <th>894</th>\n",
       "      <td>2</td>\n",
       "      <td>Myles, Mr. Thomas Francis</td>\n",
       "      <td>1</td>\n",
       "      <td>62.0</td>\n",
       "      <td>0</td>\n",
       "      <td>0</td>\n",
       "      <td>240276</td>\n",
       "      <td>9.6875</td>\n",
       "      <td>0</td>\n",
       "      <td>1</td>\n",
       "    </tr>\n",
       "    <tr>\n",
       "      <th>895</th>\n",
       "      <td>3</td>\n",
       "      <td>Wirz, Mr. Albert</td>\n",
       "      <td>1</td>\n",
       "      <td>27.0</td>\n",
       "      <td>0</td>\n",
       "      <td>0</td>\n",
       "      <td>315154</td>\n",
       "      <td>8.6625</td>\n",
       "      <td>0</td>\n",
       "      <td>2</td>\n",
       "    </tr>\n",
       "    <tr>\n",
       "      <th>896</th>\n",
       "      <td>3</td>\n",
       "      <td>Hirvonen, Mrs. Alexander (Helga E Lindqvist)</td>\n",
       "      <td>0</td>\n",
       "      <td>22.0</td>\n",
       "      <td>1</td>\n",
       "      <td>1</td>\n",
       "      <td>3101298</td>\n",
       "      <td>12.2875</td>\n",
       "      <td>0</td>\n",
       "      <td>2</td>\n",
       "    </tr>\n",
       "    <tr>\n",
       "      <th>...</th>\n",
       "      <td>...</td>\n",
       "      <td>...</td>\n",
       "      <td>...</td>\n",
       "      <td>...</td>\n",
       "      <td>...</td>\n",
       "      <td>...</td>\n",
       "      <td>...</td>\n",
       "      <td>...</td>\n",
       "      <td>...</td>\n",
       "      <td>...</td>\n",
       "    </tr>\n",
       "    <tr>\n",
       "      <th>1305</th>\n",
       "      <td>3</td>\n",
       "      <td>Spector, Mr. Woolf</td>\n",
       "      <td>1</td>\n",
       "      <td>28.0</td>\n",
       "      <td>0</td>\n",
       "      <td>0</td>\n",
       "      <td>A.5. 3236</td>\n",
       "      <td>8.0500</td>\n",
       "      <td>0</td>\n",
       "      <td>2</td>\n",
       "    </tr>\n",
       "    <tr>\n",
       "      <th>1306</th>\n",
       "      <td>1</td>\n",
       "      <td>Oliva y Ocana, Dona. Fermina</td>\n",
       "      <td>0</td>\n",
       "      <td>39.0</td>\n",
       "      <td>0</td>\n",
       "      <td>0</td>\n",
       "      <td>PC 17758</td>\n",
       "      <td>108.9000</td>\n",
       "      <td>1</td>\n",
       "      <td>0</td>\n",
       "    </tr>\n",
       "    <tr>\n",
       "      <th>1307</th>\n",
       "      <td>3</td>\n",
       "      <td>Saether, Mr. Simon Sivertsen</td>\n",
       "      <td>1</td>\n",
       "      <td>38.5</td>\n",
       "      <td>0</td>\n",
       "      <td>0</td>\n",
       "      <td>SOTON/O.Q. 3101262</td>\n",
       "      <td>7.2500</td>\n",
       "      <td>0</td>\n",
       "      <td>2</td>\n",
       "    </tr>\n",
       "    <tr>\n",
       "      <th>1308</th>\n",
       "      <td>3</td>\n",
       "      <td>Ware, Mr. Frederick</td>\n",
       "      <td>1</td>\n",
       "      <td>28.0</td>\n",
       "      <td>0</td>\n",
       "      <td>0</td>\n",
       "      <td>359309</td>\n",
       "      <td>8.0500</td>\n",
       "      <td>0</td>\n",
       "      <td>2</td>\n",
       "    </tr>\n",
       "    <tr>\n",
       "      <th>1309</th>\n",
       "      <td>3</td>\n",
       "      <td>Peter, Master. Michael J</td>\n",
       "      <td>1</td>\n",
       "      <td>28.0</td>\n",
       "      <td>1</td>\n",
       "      <td>1</td>\n",
       "      <td>2668</td>\n",
       "      <td>22.3583</td>\n",
       "      <td>0</td>\n",
       "      <td>0</td>\n",
       "    </tr>\n",
       "  </tbody>\n",
       "</table>\n",
       "<p>418 rows × 10 columns</p>\n",
       "</div>"
      ],
      "text/plain": [
       "             Pclass                                          Name  Sex   Age  \\\n",
       "PassengerId                                                                    \n",
       "892               3                              Kelly, Mr. James    1  34.5   \n",
       "893               3              Wilkes, Mrs. James (Ellen Needs)    0  47.0   \n",
       "894               2                     Myles, Mr. Thomas Francis    1  62.0   \n",
       "895               3                              Wirz, Mr. Albert    1  27.0   \n",
       "896               3  Hirvonen, Mrs. Alexander (Helga E Lindqvist)    0  22.0   \n",
       "...             ...                                           ...  ...   ...   \n",
       "1305              3                            Spector, Mr. Woolf    1  28.0   \n",
       "1306              1                  Oliva y Ocana, Dona. Fermina    0  39.0   \n",
       "1307              3                  Saether, Mr. Simon Sivertsen    1  38.5   \n",
       "1308              3                           Ware, Mr. Frederick    1  28.0   \n",
       "1309              3                      Peter, Master. Michael J    1  28.0   \n",
       "\n",
       "             SibSp  Parch              Ticket      Fare Cabin  Embarked  \n",
       "PassengerId                                                              \n",
       "892              0      0              330911    7.8292     0         1  \n",
       "893              1      0              363272    7.0000     0         2  \n",
       "894              0      0              240276    9.6875     0         1  \n",
       "895              0      0              315154    8.6625     0         2  \n",
       "896              1      1             3101298   12.2875     0         2  \n",
       "...            ...    ...                 ...       ...   ...       ...  \n",
       "1305             0      0           A.5. 3236    8.0500     0         2  \n",
       "1306             0      0            PC 17758  108.9000     1         0  \n",
       "1307             0      0  SOTON/O.Q. 3101262    7.2500     0         2  \n",
       "1308             0      0              359309    8.0500     0         2  \n",
       "1309             1      1                2668   22.3583     0         0  \n",
       "\n",
       "[418 rows x 10 columns]"
      ]
     },
     "execution_count": 14,
     "metadata": {},
     "output_type": "execute_result"
    }
   ],
   "source": [
    "# Fill null value in Age with medean value \"28\"\n",
    "x_test.Age = x_test.Age.fillna(value=28)\n",
    "\n",
    "# Fill null value in Cabin with \"0\" and other value with \"1\"\n",
    "x_test.Cabin = x_test.Cabin.fillna(value=0)\n",
    "for i in range(892, 1310):\n",
    "    if x_test.Cabin[i] != 0:\n",
    "        x_test.Cabin[i] = 1\n",
    "\n",
    "# Change \"Sex\" Value female = 0 & male = 1\n",
    "sex = {'male': 1, 'female':0}\n",
    "x_test.Sex = x_test.Sex.replace(sex)\n",
    "\n",
    "# Change \"Embarked\" value C=0, Q=1, S=2\n",
    "embarked = {'C':0, 'Q':1, 'S':2}\n",
    "x_test.Embarked = x_test.Embarked.replace(embarked)\n",
    "\n",
    "# Fill null value in 'Fare' with mean value 35.627188\n",
    "x_test.Fare = x_test.Fare.fillna(value=35.627188)\n",
    "\n",
    "x_test"
   ]
  },
  {
   "cell_type": "code",
   "execution_count": 15,
   "id": "surprised-lancaster",
   "metadata": {
    "execution": {
     "iopub.execute_input": "2021-04-27T06:53:06.919358Z",
     "iopub.status.busy": "2021-04-27T06:53:06.918512Z",
     "iopub.status.idle": "2021-04-27T06:53:06.922723Z",
     "shell.execute_reply": "2021-04-27T06:53:06.922069Z"
    },
    "papermill": {
     "duration": 0.057866,
     "end_time": "2021-04-27T06:53:06.922860",
     "exception": false,
     "start_time": "2021-04-27T06:53:06.864994",
     "status": "completed"
    },
    "tags": []
   },
   "outputs": [
    {
     "data": {
      "text/plain": [
       "Survived    0\n",
       "Pclass      0\n",
       "Name        0\n",
       "Sex         0\n",
       "Age         0\n",
       "SibSp       0\n",
       "Parch       0\n",
       "Ticket      0\n",
       "Fare        0\n",
       "Cabin       0\n",
       "Embarked    0\n",
       "dtype: int64"
      ]
     },
     "execution_count": 15,
     "metadata": {},
     "output_type": "execute_result"
    }
   ],
   "source": [
    "x_train.isna().sum()"
   ]
  },
  {
   "cell_type": "code",
   "execution_count": 16,
   "id": "cellular-formation",
   "metadata": {
    "execution": {
     "iopub.execute_input": "2021-04-27T06:53:07.021502Z",
     "iopub.status.busy": "2021-04-27T06:53:07.019462Z",
     "iopub.status.idle": "2021-04-27T06:53:07.028078Z",
     "shell.execute_reply": "2021-04-27T06:53:07.028604Z"
    },
    "papermill": {
     "duration": 0.061136,
     "end_time": "2021-04-27T06:53:07.028779",
     "exception": false,
     "start_time": "2021-04-27T06:53:06.967643",
     "status": "completed"
    },
    "tags": []
   },
   "outputs": [
    {
     "data": {
      "text/plain": [
       "((891, 8), (418, 8), (891,), (418,))"
      ]
     },
     "execution_count": 16,
     "metadata": {},
     "output_type": "execute_result"
    }
   ],
   "source": [
    "# Now we run machine learning model so that we don't need \"Name\", \"Ticket\"\n",
    "y_train = x_train['Survived']\n",
    "x_train = x_train.drop(columns=['Name', 'Ticket', 'Survived'])\n",
    "x_test = x_test.drop(columns=['Name', 'Ticket'])\n",
    "y_test = y['Survived']\n",
    "\n",
    "x_train.shape, x_test.shape, y_train.shape, y_test.shape"
   ]
  },
  {
   "cell_type": "markdown",
   "id": "collaborative-transformation",
   "metadata": {
    "papermill": {
     "duration": 0.044818,
     "end_time": "2021-04-27T06:53:07.119591",
     "exception": false,
     "start_time": "2021-04-27T06:53:07.074773",
     "status": "completed"
    },
    "tags": []
   },
   "source": [
    "# Choose a Model"
   ]
  },
  {
   "cell_type": "code",
   "execution_count": 17,
   "id": "happy-bones",
   "metadata": {
    "execution": {
     "iopub.execute_input": "2021-04-27T06:53:07.215755Z",
     "iopub.status.busy": "2021-04-27T06:53:07.215068Z",
     "iopub.status.idle": "2021-04-27T06:53:07.702267Z",
     "shell.execute_reply": "2021-04-27T06:53:07.702787Z"
    },
    "papermill": {
     "duration": 0.538147,
     "end_time": "2021-04-27T06:53:07.702983",
     "exception": false,
     "start_time": "2021-04-27T06:53:07.164836",
     "status": "completed"
    },
    "tags": []
   },
   "outputs": [],
   "source": [
    "from sklearn.model_selection import train_test_split\n",
    "\n",
    "from sklearn.ensemble import RandomForestClassifier\n",
    "from sklearn.linear_model import LogisticRegression\n",
    "from sklearn.neighbors import KNeighborsClassifier"
   ]
  },
  {
   "cell_type": "markdown",
   "id": "processed-powder",
   "metadata": {
    "papermill": {
     "duration": 0.044981,
     "end_time": "2021-04-27T06:53:07.794476",
     "exception": false,
     "start_time": "2021-04-27T06:53:07.749495",
     "status": "completed"
    },
    "tags": []
   },
   "source": [
    "# Train & Evaluate the Model"
   ]
  },
  {
   "cell_type": "code",
   "execution_count": 18,
   "id": "north-software",
   "metadata": {
    "execution": {
     "iopub.execute_input": "2021-04-27T06:53:07.896010Z",
     "iopub.status.busy": "2021-04-27T06:53:07.894764Z",
     "iopub.status.idle": "2021-04-27T06:53:08.231254Z",
     "shell.execute_reply": "2021-04-27T06:53:08.231767Z"
    },
    "papermill": {
     "duration": 0.392075,
     "end_time": "2021-04-27T06:53:08.231938",
     "exception": false,
     "start_time": "2021-04-27T06:53:07.839863",
     "status": "completed"
    },
    "tags": []
   },
   "outputs": [
    {
     "name": "stderr",
     "output_type": "stream",
     "text": [
      "/opt/conda/lib/python3.7/site-packages/sklearn/linear_model/_logistic.py:765: ConvergenceWarning: lbfgs failed to converge (status=1):\n",
      "STOP: TOTAL NO. of ITERATIONS REACHED LIMIT.\n",
      "\n",
      "Increase the number of iterations (max_iter) or scale the data as shown in:\n",
      "    https://scikit-learn.org/stable/modules/preprocessing.html\n",
      "Please also refer to the documentation for alternative solver options:\n",
      "    https://scikit-learn.org/stable/modules/linear_model.html#logistic-regression\n",
      "  extra_warning_msg=_LOGISTIC_SOLVER_CONVERGENCE_MSG)\n"
     ]
    },
    {
     "data": {
      "text/plain": [
       "{'Logistic Regression': 0.930622009569378,\n",
       " 'Random Forest Classifier': 0.8133971291866029,\n",
       " 'K-Neighbors Classifier': 0.6698564593301436}"
      ]
     },
     "execution_count": 18,
     "metadata": {},
     "output_type": "execute_result"
    }
   ],
   "source": [
    "models = {'Logistic Regression': LogisticRegression(),\n",
    "          'Random Forest Classifier': RandomForestClassifier(),\n",
    "          'K-Neighbors Classifier': KNeighborsClassifier()}\n",
    "\n",
    "score = {}\n",
    "for name, model in models.items():\n",
    "    model.fit(x_train, y_train)\n",
    "    score[name] = model.score(x_test, y_test)\n",
    "    \n",
    "score"
   ]
  },
  {
   "cell_type": "code",
   "execution_count": 19,
   "id": "decimal-newman",
   "metadata": {
    "execution": {
     "iopub.execute_input": "2021-04-27T06:53:08.334620Z",
     "iopub.status.busy": "2021-04-27T06:53:08.333850Z",
     "iopub.status.idle": "2021-04-27T06:53:08.535132Z",
     "shell.execute_reply": "2021-04-27T06:53:08.534591Z"
    },
    "papermill": {
     "duration": 0.25619,
     "end_time": "2021-04-27T06:53:08.535272",
     "exception": false,
     "start_time": "2021-04-27T06:53:08.279082",
     "status": "completed"
    },
    "tags": []
   },
   "outputs": [
    {
     "data": {
      "text/plain": [
       "<AxesSubplot:>"
      ]
     },
     "execution_count": 19,
     "metadata": {},
     "output_type": "execute_result"
    },
    {
     "data": {
      "image/png": "[encoded data removed]",
      "text/plain": [
       "<Figure size 432x288 with 1 Axes>"
      ]
     },
     "metadata": {
      "needs_background": "light"
     },
     "output_type": "display_data"
    }
   ],
   "source": [
    "score = pd.DataFrame(score, index=['accuracy'])\n",
    "score.T.plot.bar()"
   ]
  },
  {
   "cell_type": "markdown",
   "id": "statewide-upgrade",
   "metadata": {
    "papermill": {
     "duration": 0.047165,
     "end_time": "2021-04-27T06:53:08.630861",
     "exception": false,
     "start_time": "2021-04-27T06:53:08.583696",
     "status": "completed"
    },
    "tags": []
   },
   "source": [
    "# Parameter Tuning"
   ]
  },
  {
   "cell_type": "code",
   "execution_count": 20,
   "id": "swiss-investigation",
   "metadata": {
    "execution": {
     "iopub.execute_input": "2021-04-27T06:53:08.734078Z",
     "iopub.status.busy": "2021-04-27T06:53:08.733234Z",
     "iopub.status.idle": "2021-04-27T06:53:08.736867Z",
     "shell.execute_reply": "2021-04-27T06:53:08.736311Z"
    },
    "papermill": {
     "duration": 0.057079,
     "end_time": "2021-04-27T06:53:08.737011",
     "exception": false,
     "start_time": "2021-04-27T06:53:08.679932",
     "status": "completed"
    },
    "tags": []
   },
   "outputs": [],
   "source": [
    "from sklearn.model_selection import cross_val_score\n",
    "from sklearn.model_selection import RandomizedSearchCV, GridSearchCV\n",
    "from sklearn.metrics import confusion_matrix, classification_report\n",
    "from sklearn.metrics import precision_score, recall_score, f1_score\n",
    "from sklearn.metrics import plot_roc_curve"
   ]
  },
  {
   "cell_type": "markdown",
   "id": "painted-traveler",
   "metadata": {
    "papermill": {
     "duration": 0.047842,
     "end_time": "2021-04-27T06:53:08.832664",
     "exception": false,
     "start_time": "2021-04-27T06:53:08.784822",
     "status": "completed"
    },
    "tags": []
   },
   "source": [
    "## HyperParameters Tuning (by hand)"
   ]
  },
  {
   "cell_type": "code",
   "execution_count": 21,
   "id": "stopped-technology",
   "metadata": {
    "execution": {
     "iopub.execute_input": "2021-04-27T06:53:08.940865Z",
     "iopub.status.busy": "2021-04-27T06:53:08.940025Z",
     "iopub.status.idle": "2021-04-27T06:53:10.238097Z",
     "shell.execute_reply": "2021-04-27T06:53:10.237449Z"
    },
    "papermill": {
     "duration": 1.355186,
     "end_time": "2021-04-27T06:53:10.238240",
     "exception": false,
     "start_time": "2021-04-27T06:53:08.883054",
     "status": "completed"
    },
    "tags": []
   },
   "outputs": [],
   "source": [
    "# Let's tune KNN\n",
    "train_score = []\n",
    "test_score = []\n",
    "\n",
    "# Create a list of different values for n_neighbors\n",
    "neighbors = range(1, 21)\n",
    "\n",
    "# Setup KNN instance\n",
    "knn = KNeighborsClassifier()\n",
    "\n",
    "# Loop through different n_neighbours\n",
    "for i in neighbors:\n",
    "    knn.set_params(n_neighbors=i)\n",
    "    # Fit the algorithm\n",
    "    knn.fit(x_train, y_train)\n",
    "    # Update the training scores list\n",
    "    train_score.append(knn.score(x_train, y_train))\n",
    "    # Update the testing scores list\n",
    "    test_score.append(knn.score(x_test, y_test))"
   ]
  },
  {
   "cell_type": "code",
   "execution_count": 22,
   "id": "embedded-stupid",
   "metadata": {
    "execution": {
     "iopub.execute_input": "2021-04-27T06:53:10.341934Z",
     "iopub.status.busy": "2021-04-27T06:53:10.340926Z",
     "iopub.status.idle": "2021-04-27T06:53:10.345723Z",
     "shell.execute_reply": "2021-04-27T06:53:10.345216Z"
    },
    "papermill": {
     "duration": 0.059226,
     "end_time": "2021-04-27T06:53:10.345862",
     "exception": false,
     "start_time": "2021-04-27T06:53:10.286636",
     "status": "completed"
    },
    "tags": []
   },
   "outputs": [
    {
     "data": {
      "text/plain": [
       "[0.9820426487093153,\n",
       " 0.8439955106621774,\n",
       " 0.8473625140291807,\n",
       " 0.8035914702581369,\n",
       " 0.8092031425364759,\n",
       " 0.7912457912457912,\n",
       " 0.7890011223344556,\n",
       " 0.7845117845117845,\n",
       " 0.7755331088664422,\n",
       " 0.7687991021324355,\n",
       " 0.7542087542087542,\n",
       " 0.7542087542087542,\n",
       " 0.7575757575757576,\n",
       " 0.7429854096520763,\n",
       " 0.7564534231200898,\n",
       " 0.745230078563412,\n",
       " 0.7441077441077442,\n",
       " 0.7373737373737373,\n",
       " 0.7418630751964085,\n",
       " 0.7396184062850729]"
      ]
     },
     "execution_count": 22,
     "metadata": {},
     "output_type": "execute_result"
    }
   ],
   "source": [
    "train_score"
   ]
  },
  {
   "cell_type": "code",
   "execution_count": 23,
   "id": "banned-capacity",
   "metadata": {
    "execution": {
     "iopub.execute_input": "2021-04-27T06:53:10.447797Z",
     "iopub.status.busy": "2021-04-27T06:53:10.447148Z",
     "iopub.status.idle": "2021-04-27T06:53:10.449992Z",
     "shell.execute_reply": "2021-04-27T06:53:10.450575Z"
    },
    "papermill": {
     "duration": 0.056604,
     "end_time": "2021-04-27T06:53:10.450742",
     "exception": false,
     "start_time": "2021-04-27T06:53:10.394138",
     "status": "completed"
    },
    "tags": []
   },
   "outputs": [
    {
     "data": {
      "text/plain": [
       "[0.6220095693779905,\n",
       " 0.6842105263157895,\n",
       " 0.6507177033492823,\n",
       " 0.6674641148325359,\n",
       " 0.6698564593301436,\n",
       " 0.6889952153110048,\n",
       " 0.6794258373205742,\n",
       " 0.6746411483253588,\n",
       " 0.6674641148325359,\n",
       " 0.6770334928229665,\n",
       " 0.6602870813397129,\n",
       " 0.6555023923444976,\n",
       " 0.6507177033492823,\n",
       " 0.6555023923444976,\n",
       " 0.65311004784689,\n",
       " 0.6650717703349283,\n",
       " 0.6650717703349283,\n",
       " 0.6770334928229665,\n",
       " 0.6746411483253588,\n",
       " 0.6722488038277512]"
      ]
     },
     "execution_count": 23,
     "metadata": {},
     "output_type": "execute_result"
    }
   ],
   "source": [
    "test_score"
   ]
  },
  {
   "cell_type": "code",
   "execution_count": 24,
   "id": "consolidated-passion",
   "metadata": {
    "execution": {
     "iopub.execute_input": "2021-04-27T06:53:10.552674Z",
     "iopub.status.busy": "2021-04-27T06:53:10.551993Z",
     "iopub.status.idle": "2021-04-27T06:53:10.975909Z",
     "shell.execute_reply": "2021-04-27T06:53:10.975200Z"
    },
    "papermill": {
     "duration": 0.476293,
     "end_time": "2021-04-27T06:53:10.976057",
     "exception": false,
     "start_time": "2021-04-27T06:53:10.499764",
     "status": "completed"
    },
    "tags": []
   },
   "outputs": [
    {
     "name": "stdout",
     "output_type": "stream",
     "text": [
      "Maximum KNN Score on the test data:68.90%\n"
     ]
    },
    {
     "data": {
      "image/png": "[encoded data removed]",
      "text/plain": [
       "<Figure size 1080x504 with 1 Axes>"
      ]
     },
     "metadata": {
      "needs_background": "light"
     },
     "output_type": "display_data"
    }
   ],
   "source": [
    "plt.figure(figsize=(15,7))\n",
    "sns.lineplot(x=neighbors, y=test_score)\n",
    "sns.lineplot(x=neighbors, y=train_score)\n",
    "plt.xticks(ticks=np.arange(1,21,1))\n",
    "plt.xlabel('Number of neighbors')\n",
    "plt.ylabel('Model Score')\n",
    "plt.legend(['Test Score', 'Train Score'])\n",
    "print(f'Maximum KNN Score on the test data:{max(test_score)*100:.2f}%')"
   ]
  },
  {
   "cell_type": "markdown",
   "id": "duplicate-universal",
   "metadata": {
    "papermill": {
     "duration": 0.051129,
     "end_time": "2021-04-27T06:53:11.079064",
     "exception": false,
     "start_time": "2021-04-27T06:53:11.027935",
     "status": "completed"
    },
    "tags": []
   },
   "source": [
    "## Hyperparameter tunning with RandomizedSearchCV\n",
    "\n",
    "Tune the model:\n",
    "* LogiticRegression()\n",
    "* RandomForestClassifier()\n",
    "\n",
    "... using RandomizedSearchCV"
   ]
  },
  {
   "cell_type": "code",
   "execution_count": 25,
   "id": "requested-excess",
   "metadata": {
    "execution": {
     "iopub.execute_input": "2021-04-27T06:53:11.190598Z",
     "iopub.status.busy": "2021-04-27T06:53:11.189928Z",
     "iopub.status.idle": "2021-04-27T06:53:12.134466Z",
     "shell.execute_reply": "2021-04-27T06:53:12.133908Z"
    },
    "papermill": {
     "duration": 1.002061,
     "end_time": "2021-04-27T06:53:12.134645",
     "exception": false,
     "start_time": "2021-04-27T06:53:11.132584",
     "status": "completed"
    },
    "tags": []
   },
   "outputs": [
    {
     "name": "stdout",
     "output_type": "stream",
     "text": [
      "Fitting 5 folds for each of 20 candidates, totalling 100 fits\n"
     ]
    },
    {
     "data": {
      "text/plain": [
       "RandomizedSearchCV(cv=5, estimator=LogisticRegression(), n_iter=20,\n",
       "                   param_distributions={'C': array([1.00000000e-04, 2.63665090e-04, 6.95192796e-04, 1.83298071e-03,\n",
       "       4.83293024e-03, 1.27427499e-02, 3.35981829e-02, 8.85866790e-02,\n",
       "       2.33572147e-01, 6.15848211e-01, 1.62377674e+00, 4.28133240e+00,\n",
       "       1.12883789e+01, 2.97635144e+01, 7.84759970e+01, 2.06913808e+02,\n",
       "       5.45559478e+02, 1.43844989e+03, 3.79269019e+03, 1.00000000e+04]),\n",
       "                                        'solver': ['liblinear']},\n",
       "                   verbose=True)"
      ]
     },
     "execution_count": 25,
     "metadata": {},
     "output_type": "execute_result"
    }
   ],
   "source": [
    "# Create a hyperparameter grid for LogisticRegression\n",
    "log_reg_grid = {'C': np.logspace(-4, 4, 20),\n",
    "                'solver': ['liblinear']}\n",
    "\n",
    "# Tune LogisticRegression \n",
    "np.random.seed(42)\n",
    "\n",
    "# setup random hyperparameter search for LogisticRegression\n",
    "rs_log_reg = RandomizedSearchCV(LogisticRegression(),\n",
    "                                param_distributions=log_reg_grid,\n",
    "                                cv=5,\n",
    "                                n_iter=20,\n",
    "                                verbose=True)\n",
    "\n",
    "# fit random hyperparameter search model for LogisticRegression\n",
    "rs_log_reg.fit(x_train, y_train)"
   ]
  },
  {
   "cell_type": "code",
   "execution_count": 26,
   "id": "vertical-fleet",
   "metadata": {
    "execution": {
     "iopub.execute_input": "2021-04-27T06:53:12.265777Z",
     "iopub.status.busy": "2021-04-27T06:53:12.264816Z",
     "iopub.status.idle": "2021-04-27T06:53:12.268227Z",
     "shell.execute_reply": "2021-04-27T06:53:12.268941Z"
    },
    "papermill": {
     "duration": 0.067771,
     "end_time": "2021-04-27T06:53:12.269160",
     "exception": false,
     "start_time": "2021-04-27T06:53:12.201389",
     "status": "completed"
    },
    "tags": []
   },
   "outputs": [
    {
     "data": {
      "text/plain": [
       "{'solver': 'liblinear', 'C': 1.623776739188721}"
      ]
     },
     "execution_count": 26,
     "metadata": {},
     "output_type": "execute_result"
    }
   ],
   "source": [
    "rs_log_reg.best_params_"
   ]
  },
  {
   "cell_type": "code",
   "execution_count": 27,
   "id": "recreational-archive",
   "metadata": {
    "execution": {
     "iopub.execute_input": "2021-04-27T06:53:12.380879Z",
     "iopub.status.busy": "2021-04-27T06:53:12.380176Z",
     "iopub.status.idle": "2021-04-27T06:53:12.391962Z",
     "shell.execute_reply": "2021-04-27T06:53:12.391406Z"
    },
    "papermill": {
     "duration": 0.066662,
     "end_time": "2021-04-27T06:53:12.392107",
     "exception": false,
     "start_time": "2021-04-27T06:53:12.325445",
     "status": "completed"
    },
    "tags": []
   },
   "outputs": [
    {
     "data": {
      "text/plain": [
       "0.9425837320574163"
      ]
     },
     "execution_count": 27,
     "metadata": {},
     "output_type": "execute_result"
    }
   ],
   "source": [
    "rs_log_reg.score(x_test, y_test)"
   ]
  },
  {
   "cell_type": "code",
   "execution_count": 28,
   "id": "difficult-framework",
   "metadata": {
    "execution": {
     "iopub.execute_input": "2021-04-27T06:53:12.512795Z",
     "iopub.status.busy": "2021-04-27T06:53:12.511959Z",
     "iopub.status.idle": "2021-04-27T06:54:55.994466Z",
     "shell.execute_reply": "2021-04-27T06:54:55.995021Z"
    },
    "papermill": {
     "duration": 103.550173,
     "end_time": "2021-04-27T06:54:55.995230",
     "exception": false,
     "start_time": "2021-04-27T06:53:12.445057",
     "status": "completed"
    },
    "tags": []
   },
   "outputs": [
    {
     "name": "stdout",
     "output_type": "stream",
     "text": [
      "Fitting 5 folds for each of 20 candidates, totalling 100 fits\n"
     ]
    },
    {
     "data": {
      "text/plain": [
       "RandomizedSearchCV(cv=5, estimator=RandomForestClassifier(), n_iter=20,\n",
       "                   param_distributions={'max_depth': [None, 3, 5, 10],\n",
       "                                        'min_samples_leaf': array([ 1,  3,  5,  7,  9, 11, 13, 15, 17, 19]),\n",
       "                                        'min_samples_split': array([ 2,  4,  6,  8, 10, 12, 14, 16, 18]),\n",
       "                                        'n_estimators': array([ 10,  60, 110, 160, 210, 260, 310, 360, 410, 460, 510, 560, 610,\n",
       "       660, 710, 760, 810, 860, 910, 960])},\n",
       "                   verbose=True)"
      ]
     },
     "execution_count": 28,
     "metadata": {},
     "output_type": "execute_result"
    }
   ],
   "source": [
    "# Create a hyperparameter grid for RandomForestClassifier\n",
    "rf_grid = {'n_estimators': np.arange(10, 1000, 50),\n",
    "           'max_depth': [None, 3, 5, 10],\n",
    "           'min_samples_split': np.arange(2, 20, 2),\n",
    "           'min_samples_leaf': np.arange(1, 20, 2)}\n",
    "\n",
    "# Setup random seed\n",
    "np.random.seed(42)\n",
    "\n",
    "# Setup random hyperparameter search for RandomForestClassifier\n",
    "rs_rf = RandomizedSearchCV(RandomForestClassifier(),\n",
    "                           param_distributions=rf_grid,\n",
    "                           cv=5,\n",
    "                           n_iter=20,\n",
    "                           verbose=True)\n",
    "\n",
    "# Fit random hyperparameter search model for RandomForestClassifier\n",
    "rs_rf.fit(x_train, y_train)"
   ]
  },
  {
   "cell_type": "code",
   "execution_count": 29,
   "id": "smart-crime",
   "metadata": {
    "execution": {
     "iopub.execute_input": "2021-04-27T06:54:56.108740Z",
     "iopub.status.busy": "2021-04-27T06:54:56.107862Z",
     "iopub.status.idle": "2021-04-27T06:54:56.112163Z",
     "shell.execute_reply": "2021-04-27T06:54:56.111642Z"
    },
    "papermill": {
     "duration": 0.062206,
     "end_time": "2021-04-27T06:54:56.112317",
     "exception": false,
     "start_time": "2021-04-27T06:54:56.050111",
     "status": "completed"
    },
    "tags": []
   },
   "outputs": [
    {
     "data": {
      "text/plain": [
       "{'n_estimators': 610,\n",
       " 'min_samples_split': 18,\n",
       " 'min_samples_leaf': 1,\n",
       " 'max_depth': 5}"
      ]
     },
     "execution_count": 29,
     "metadata": {},
     "output_type": "execute_result"
    }
   ],
   "source": [
    "# Find the best hyperparameters\n",
    "rs_rf.best_params_"
   ]
  },
  {
   "cell_type": "code",
   "execution_count": 30,
   "id": "threatened-bangkok",
   "metadata": {
    "execution": {
     "iopub.execute_input": "2021-04-27T06:54:56.227220Z",
     "iopub.status.busy": "2021-04-27T06:54:56.226203Z",
     "iopub.status.idle": "2021-04-27T06:54:56.314239Z",
     "shell.execute_reply": "2021-04-27T06:54:56.313597Z"
    },
    "papermill": {
     "duration": 0.148864,
     "end_time": "2021-04-27T06:54:56.314374",
     "exception": false,
     "start_time": "2021-04-27T06:54:56.165510",
     "status": "completed"
    },
    "tags": []
   },
   "outputs": [
    {
     "data": {
      "text/plain": [
       "0.8588516746411483"
      ]
     },
     "execution_count": 30,
     "metadata": {},
     "output_type": "execute_result"
    }
   ],
   "source": [
    "# Evaluate the randomized search randomforestClassifier model\n",
    "rs_rf.score(x_test, y_test)"
   ]
  },
  {
   "cell_type": "markdown",
   "id": "electronic-cornell",
   "metadata": {
    "papermill": {
     "duration": 0.053575,
     "end_time": "2021-04-27T06:54:56.422009",
     "exception": false,
     "start_time": "2021-04-27T06:54:56.368434",
     "status": "completed"
    },
    "tags": []
   },
   "source": [
    "## Hyperparameter Tuning with GridSearchCV\n",
    "\n",
    "LogisticRegression model provides the best scores, try and improve them again using GridSearchCV..."
   ]
  },
  {
   "cell_type": "code",
   "execution_count": 31,
   "id": "rubber-invite",
   "metadata": {
    "execution": {
     "iopub.execute_input": "2021-04-27T06:54:56.537546Z",
     "iopub.status.busy": "2021-04-27T06:54:56.536581Z",
     "iopub.status.idle": "2021-04-27T06:54:57.915796Z",
     "shell.execute_reply": "2021-04-27T06:54:57.915126Z"
    },
    "papermill": {
     "duration": 1.440182,
     "end_time": "2021-04-27T06:54:57.915938",
     "exception": false,
     "start_time": "2021-04-27T06:54:56.475756",
     "status": "completed"
    },
    "tags": []
   },
   "outputs": [
    {
     "name": "stdout",
     "output_type": "stream",
     "text": [
      "Fitting 5 folds for each of 30 candidates, totalling 150 fits\n"
     ]
    },
    {
     "data": {
      "text/plain": [
       "GridSearchCV(cv=5, estimator=LogisticRegression(),\n",
       "             param_grid={'C': array([1.00000000e-04, 1.88739182e-04, 3.56224789e-04, 6.72335754e-04,\n",
       "       1.26896100e-03, 2.39502662e-03, 4.52035366e-03, 8.53167852e-03,\n",
       "       1.61026203e-02, 3.03919538e-02, 5.73615251e-02, 1.08263673e-01,\n",
       "       2.04335972e-01, 3.85662042e-01, 7.27895384e-01, 1.37382380e+00,\n",
       "       2.59294380e+00, 4.89390092e+00, 9.23670857e+00, 1.74332882e+01,\n",
       "       3.29034456e+01, 6.21016942e+01, 1.17210230e+02, 2.21221629e+02,\n",
       "       4.17531894e+02, 7.88046282e+02, 1.48735211e+03, 2.80721620e+03,\n",
       "       5.29831691e+03, 1.00000000e+04]),\n",
       "                         'solver': ['liblinear']},\n",
       "             verbose=True)"
      ]
     },
     "execution_count": 31,
     "metadata": {},
     "output_type": "execute_result"
    }
   ],
   "source": [
    "# Diffrent hyperparameters for our LogisticRegression model\n",
    "log_reg_grid = {'C': np.logspace(-4,4,30),\n",
    "                'solver': ['liblinear']}\n",
    "\n",
    "# setup grid hyperparameter search for LogisticRegression\n",
    "gs_log_reg = GridSearchCV(LogisticRegression(),\n",
    "                          param_grid= log_reg_grid,\n",
    "                          cv=5,\n",
    "                          verbose=True)\n",
    "\n",
    "# Fit grid hyperparameter search model\n",
    "gs_log_reg.fit(x_train, y_train)"
   ]
  },
  {
   "cell_type": "code",
   "execution_count": 32,
   "id": "authorized-salmon",
   "metadata": {
    "execution": {
     "iopub.execute_input": "2021-04-27T06:54:58.031896Z",
     "iopub.status.busy": "2021-04-27T06:54:58.031027Z",
     "iopub.status.idle": "2021-04-27T06:54:58.035677Z",
     "shell.execute_reply": "2021-04-27T06:54:58.035095Z"
    },
    "papermill": {
     "duration": 0.064825,
     "end_time": "2021-04-27T06:54:58.035818",
     "exception": false,
     "start_time": "2021-04-27T06:54:57.970993",
     "status": "completed"
    },
    "tags": []
   },
   "outputs": [
    {
     "data": {
      "text/plain": [
       "{'C': 1.3738237958832638, 'solver': 'liblinear'}"
      ]
     },
     "execution_count": 32,
     "metadata": {},
     "output_type": "execute_result"
    }
   ],
   "source": [
    "gs_log_reg.best_params_"
   ]
  },
  {
   "cell_type": "code",
   "execution_count": 33,
   "id": "dressed-photography",
   "metadata": {
    "execution": {
     "iopub.execute_input": "2021-04-27T06:54:58.155956Z",
     "iopub.status.busy": "2021-04-27T06:54:58.155010Z",
     "iopub.status.idle": "2021-04-27T06:54:58.161379Z",
     "shell.execute_reply": "2021-04-27T06:54:58.160667Z"
    },
    "papermill": {
     "duration": 0.070534,
     "end_time": "2021-04-27T06:54:58.161539",
     "exception": false,
     "start_time": "2021-04-27T06:54:58.091005",
     "status": "completed"
    },
    "tags": []
   },
   "outputs": [
    {
     "data": {
      "text/plain": [
       "0.9425837320574163"
      ]
     },
     "execution_count": 33,
     "metadata": {},
     "output_type": "execute_result"
    }
   ],
   "source": [
    "gs_log_reg.score(x_test, y_test)"
   ]
  },
  {
   "cell_type": "markdown",
   "id": "afraid-gravity",
   "metadata": {
    "papermill": {
     "duration": 0.057467,
     "end_time": "2021-04-27T06:54:58.275685",
     "exception": false,
     "start_time": "2021-04-27T06:54:58.218218",
     "status": "completed"
    },
    "tags": []
   },
   "source": [
    "## Evaluting our tuned machine learning classifier, beyond accuracy\n",
    "\n",
    "* ROC curve and AUC score\n",
    "* Confusion matrix\n",
    "* classification report\n",
    "* Precision\n",
    "* Recall\n",
    "* F1-Score\n",
    "\n",
    "....and it would be great it cross-validaton was used where possible\n",
    "\n",
    "to make comaparistions and evaluate our trained model, first we need to make predictions."
   ]
  },
  {
   "cell_type": "code",
   "execution_count": 34,
   "id": "wound-reply",
   "metadata": {
    "execution": {
     "iopub.execute_input": "2021-04-27T06:54:58.396658Z",
     "iopub.status.busy": "2021-04-27T06:54:58.395998Z",
     "iopub.status.idle": "2021-04-27T06:54:58.399031Z",
     "shell.execute_reply": "2021-04-27T06:54:58.398126Z"
    },
    "papermill": {
     "duration": 0.065781,
     "end_time": "2021-04-27T06:54:58.399188",
     "exception": false,
     "start_time": "2021-04-27T06:54:58.333407",
     "status": "completed"
    },
    "tags": []
   },
   "outputs": [],
   "source": [
    "# make predictions with tuned model\n",
    "y_preds = gs_log_reg.predict(x_test)"
   ]
  },
  {
   "cell_type": "code",
   "execution_count": 35,
   "id": "shaped-packaging",
   "metadata": {
    "execution": {
     "iopub.execute_input": "2021-04-27T06:54:58.518729Z",
     "iopub.status.busy": "2021-04-27T06:54:58.517906Z",
     "iopub.status.idle": "2021-04-27T06:54:58.521905Z",
     "shell.execute_reply": "2021-04-27T06:54:58.522395Z"
    },
    "papermill": {
     "duration": 0.067086,
     "end_time": "2021-04-27T06:54:58.522578",
     "exception": false,
     "start_time": "2021-04-27T06:54:58.455492",
     "status": "completed"
    },
    "tags": []
   },
   "outputs": [
    {
     "data": {
      "text/plain": [
       "array([0, 0, 0, 0, 1, 0, 1, 0, 1, 0, 0, 0, 1, 0, 1, 1, 0, 0, 1, 1, 0, 0,\n",
       "       1, 0, 1, 0, 1, 0, 0, 0, 0, 0, 0, 1, 1, 0, 1, 1, 0, 0, 0, 1, 0, 1,\n",
       "       1, 0, 0, 0, 1, 1, 1, 0, 1, 1, 0, 0, 0, 0, 0, 1, 0, 0, 0, 1, 1, 1,\n",
       "       1, 0, 1, 1, 1, 0, 1, 1, 1, 1, 0, 1, 0, 1, 0, 0, 0, 0, 0, 0, 1, 1,\n",
       "       1, 0, 1, 0, 1, 0, 0, 0, 1, 0, 1, 0, 1, 0, 0, 0, 1, 0, 0, 0, 0, 0,\n",
       "       0, 1, 1, 1, 1, 0, 0, 1, 1, 1, 1, 0, 1, 0, 0, 1, 0, 1, 0, 0, 0, 0,\n",
       "       1, 0, 0, 0, 0, 0, 1, 0, 0, 1, 0, 0, 0, 0, 1, 0, 0, 0, 1, 0, 0, 1,\n",
       "       0, 0, 1, 1, 0, 1, 1, 0, 1, 0, 0, 1, 0, 0, 1, 1, 0, 0, 0, 0, 0, 1,\n",
       "       1, 0, 1, 1, 0, 0, 1, 0, 1, 0, 1, 0, 0, 0, 0, 0, 0, 0, 0, 0, 1, 1,\n",
       "       0, 1, 1, 0, 1, 1, 0, 0, 1, 0, 1, 0, 0, 0, 0, 0, 0, 0, 1, 0, 1, 0,\n",
       "       1, 0, 1, 0, 1, 1, 0, 1, 0, 0, 0, 1, 0, 0, 0, 0, 0, 0, 1, 1, 1, 1,\n",
       "       0, 0, 0, 0, 1, 0, 1, 1, 1, 0, 1, 0, 0, 0, 0, 0, 1, 0, 0, 0, 1, 1,\n",
       "       0, 0, 0, 0, 1, 0, 0, 0, 1, 1, 0, 1, 0, 0, 0, 0, 1, 0, 1, 1, 1, 0,\n",
       "       0, 1, 0, 0, 0, 1, 0, 0, 0, 0, 1, 0, 0, 0, 0, 0, 0, 0, 1, 1, 0, 0,\n",
       "       0, 0, 0, 0, 0, 1, 1, 1, 0, 0, 0, 0, 0, 0, 0, 0, 1, 0, 1, 0, 0, 0,\n",
       "       1, 1, 0, 1, 0, 1, 0, 0, 0, 0, 0, 0, 0, 1, 0, 1, 0, 1, 0, 1, 1, 0,\n",
       "       0, 0, 1, 0, 1, 0, 0, 1, 0, 1, 1, 0, 1, 0, 0, 1, 1, 0, 0, 1, 0, 0,\n",
       "       1, 1, 1, 0, 0, 0, 0, 0, 1, 1, 0, 1, 0, 0, 0, 0, 1, 1, 0, 0, 0, 1,\n",
       "       0, 1, 0, 0, 1, 0, 1, 0, 0, 0, 0, 0, 1, 1, 1, 1, 1, 0, 1, 0, 0, 0])"
      ]
     },
     "execution_count": 35,
     "metadata": {},
     "output_type": "execute_result"
    }
   ],
   "source": [
    "y_preds"
   ]
  },
  {
   "cell_type": "code",
   "execution_count": 36,
   "id": "fantastic-negative",
   "metadata": {
    "execution": {
     "iopub.execute_input": "2021-04-27T06:54:58.645010Z",
     "iopub.status.busy": "2021-04-27T06:54:58.644331Z",
     "iopub.status.idle": "2021-04-27T06:54:58.646980Z",
     "shell.execute_reply": "2021-04-27T06:54:58.647494Z"
    },
    "papermill": {
     "duration": 0.067202,
     "end_time": "2021-04-27T06:54:58.647675",
     "exception": false,
     "start_time": "2021-04-27T06:54:58.580473",
     "status": "completed"
    },
    "tags": []
   },
   "outputs": [
    {
     "data": {
      "text/plain": [
       "PassengerId\n",
       "892     0\n",
       "893     1\n",
       "894     0\n",
       "895     0\n",
       "896     1\n",
       "       ..\n",
       "1305    0\n",
       "1306    1\n",
       "1307    0\n",
       "1308    0\n",
       "1309    0\n",
       "Name: Survived, Length: 418, dtype: int64"
      ]
     },
     "execution_count": 36,
     "metadata": {},
     "output_type": "execute_result"
    }
   ],
   "source": [
    "y_test"
   ]
  },
  {
   "cell_type": "code",
   "execution_count": 37,
   "id": "systematic-ordering",
   "metadata": {
    "execution": {
     "iopub.execute_input": "2021-04-27T06:54:58.765643Z",
     "iopub.status.busy": "2021-04-27T06:54:58.764922Z",
     "iopub.status.idle": "2021-04-27T06:54:58.921239Z",
     "shell.execute_reply": "2021-04-27T06:54:58.921768Z"
    },
    "papermill": {
     "duration": 0.216764,
     "end_time": "2021-04-27T06:54:58.921950",
     "exception": false,
     "start_time": "2021-04-27T06:54:58.705186",
     "status": "completed"
    },
    "tags": []
   },
   "outputs": [
    {
     "data": {
      "text/plain": [
       "<sklearn.metrics._plot.roc_curve.RocCurveDisplay at 0x7fca74649790>"
      ]
     },
     "execution_count": 37,
     "metadata": {},
     "output_type": "execute_result"
    },
    {
     "data": {
      "image/png": "[encoded data removed]",
      "text/plain": [
       "<Figure size 432x288 with 1 Axes>"
      ]
     },
     "metadata": {
      "needs_background": "light"
     },
     "output_type": "display_data"
    }
   ],
   "source": [
    "plot_roc_curve(gs_log_reg, x_test, y_test)"
   ]
  },
  {
   "cell_type": "code",
   "execution_count": 38,
   "id": "blind-discrimination",
   "metadata": {
    "execution": {
     "iopub.execute_input": "2021-04-27T06:54:59.045348Z",
     "iopub.status.busy": "2021-04-27T06:54:59.044693Z",
     "iopub.status.idle": "2021-04-27T06:54:59.050842Z",
     "shell.execute_reply": "2021-04-27T06:54:59.051292Z"
    },
    "papermill": {
     "duration": 0.070585,
     "end_time": "2021-04-27T06:54:59.051468",
     "exception": false,
     "start_time": "2021-04-27T06:54:58.980883",
     "status": "completed"
    },
    "tags": []
   },
   "outputs": [
    {
     "data": {
      "text/plain": [
       "array([[250,  16],\n",
       "       [  8, 144]])"
      ]
     },
     "execution_count": 38,
     "metadata": {},
     "output_type": "execute_result"
    }
   ],
   "source": [
    "confusion_matrix(y_test, y_preds)"
   ]
  },
  {
   "cell_type": "code",
   "execution_count": 39,
   "id": "otherwise-electronics",
   "metadata": {
    "execution": {
     "iopub.execute_input": "2021-04-27T06:54:59.172857Z",
     "iopub.status.busy": "2021-04-27T06:54:59.172082Z",
     "iopub.status.idle": "2021-04-27T06:54:59.269543Z",
     "shell.execute_reply": "2021-04-27T06:54:59.270042Z"
    },
    "papermill": {
     "duration": 0.15983,
     "end_time": "2021-04-27T06:54:59.270226",
     "exception": false,
     "start_time": "2021-04-27T06:54:59.110396",
     "status": "completed"
    },
    "tags": []
   },
   "outputs": [
    {
     "data": {
      "text/plain": [
       "Text(0.5, 6.0, 'True Label')"
      ]
     },
     "execution_count": 39,
     "metadata": {},
     "output_type": "execute_result"
    },
    {
     "data": {
      "image/png": "[encoded data removed]",
      "text/plain": [
       "<Figure size 216x216 with 1 Axes>"
      ]
     },
     "metadata": {
      "needs_background": "light"
     },
     "output_type": "display_data"
    }
   ],
   "source": [
    "plt.figure(figsize=(3,3))\n",
    "sns.heatmap(confusion_matrix(y_test, y_preds), annot=True, cbar=False, fmt='.0f')\n",
    "plt.ylabel('Predicted Label')\n",
    "plt.xlabel('True Label')"
   ]
  },
  {
   "cell_type": "code",
   "execution_count": 40,
   "id": "returning-distribution",
   "metadata": {
    "execution": {
     "iopub.execute_input": "2021-04-27T06:54:59.397434Z",
     "iopub.status.busy": "2021-04-27T06:54:59.396421Z",
     "iopub.status.idle": "2021-04-27T06:54:59.406590Z",
     "shell.execute_reply": "2021-04-27T06:54:59.406023Z"
    },
    "papermill": {
     "duration": 0.074848,
     "end_time": "2021-04-27T06:54:59.406736",
     "exception": false,
     "start_time": "2021-04-27T06:54:59.331888",
     "status": "completed"
    },
    "tags": []
   },
   "outputs": [
    {
     "name": "stdout",
     "output_type": "stream",
     "text": [
      "              precision    recall  f1-score   support\n",
      "\n",
      "           0       0.97      0.94      0.95       266\n",
      "           1       0.90      0.95      0.92       152\n",
      "\n",
      "    accuracy                           0.94       418\n",
      "   macro avg       0.93      0.94      0.94       418\n",
      "weighted avg       0.94      0.94      0.94       418\n",
      "\n"
     ]
    }
   ],
   "source": [
    "print(classification_report(y_test, y_preds))"
   ]
  },
  {
   "cell_type": "markdown",
   "id": "organized-fourth",
   "metadata": {
    "papermill": {
     "duration": 0.062066,
     "end_time": "2021-04-27T06:54:59.532438",
     "exception": false,
     "start_time": "2021-04-27T06:54:59.470372",
     "status": "completed"
    },
    "tags": []
   },
   "source": [
    "## Feature Importance \n",
    "\n",
    "for LogisticRegression model..."
   ]
  },
  {
   "cell_type": "code",
   "execution_count": 41,
   "id": "printable-basic",
   "metadata": {
    "execution": {
     "iopub.execute_input": "2021-04-27T06:54:59.658365Z",
     "iopub.status.busy": "2021-04-27T06:54:59.657708Z",
     "iopub.status.idle": "2021-04-27T06:54:59.672764Z",
     "shell.execute_reply": "2021-04-27T06:54:59.672178Z"
    },
    "papermill": {
     "duration": 0.07877,
     "end_time": "2021-04-27T06:54:59.672907",
     "exception": false,
     "start_time": "2021-04-27T06:54:59.594137",
     "status": "completed"
    },
    "tags": []
   },
   "outputs": [
    {
     "data": {
      "text/plain": [
       "LogisticRegression(C=1.3738237958832638, solver='liblinear')"
      ]
     },
     "execution_count": 41,
     "metadata": {},
     "output_type": "execute_result"
    }
   ],
   "source": [
    "# Fit an instance of LogisticRegression\n",
    "clf = LogisticRegression(C=1.3738237958832638, solver='liblinear')\n",
    "\n",
    "clf.fit(x_train, y_train)"
   ]
  },
  {
   "cell_type": "code",
   "execution_count": 42,
   "id": "organizational-perfume",
   "metadata": {
    "execution": {
     "iopub.execute_input": "2021-04-27T06:54:59.799794Z",
     "iopub.status.busy": "2021-04-27T06:54:59.799093Z",
     "iopub.status.idle": "2021-04-27T06:54:59.807010Z",
     "shell.execute_reply": "2021-04-27T06:54:59.806481Z"
    },
    "papermill": {
     "duration": 0.072503,
     "end_time": "2021-04-27T06:54:59.807153",
     "exception": false,
     "start_time": "2021-04-27T06:54:59.734650",
     "status": "completed"
    },
    "tags": []
   },
   "outputs": [
    {
     "data": {
      "text/plain": [
       "array([[-0.63455776, -2.57117481, -0.03234181, -0.30314428, -0.09376573,\n",
       "         0.00263339,  0.85514816, -0.15357234]])"
      ]
     },
     "execution_count": 42,
     "metadata": {},
     "output_type": "execute_result"
    }
   ],
   "source": [
    "clf.coef_"
   ]
  },
  {
   "cell_type": "code",
   "execution_count": 43,
   "id": "fatal-allocation",
   "metadata": {
    "execution": {
     "iopub.execute_input": "2021-04-27T06:54:59.938268Z",
     "iopub.status.busy": "2021-04-27T06:54:59.937317Z",
     "iopub.status.idle": "2021-04-27T06:54:59.941501Z",
     "shell.execute_reply": "2021-04-27T06:54:59.941019Z"
    },
    "papermill": {
     "duration": 0.071456,
     "end_time": "2021-04-27T06:54:59.941658",
     "exception": false,
     "start_time": "2021-04-27T06:54:59.870202",
     "status": "completed"
    },
    "tags": []
   },
   "outputs": [
    {
     "data": {
      "text/plain": [
       "{'Pclass': -0.6345577550063597,\n",
       " 'Sex': -2.5711748141844306,\n",
       " 'Age': -0.032341812687402355,\n",
       " 'SibSp': -0.30314428122498027,\n",
       " 'Parch': -0.09376572867761772,\n",
       " 'Fare': 0.002633392282202716,\n",
       " 'Cabin': 0.8551481599385514,\n",
       " 'Embarked': -0.1535723353326732}"
      ]
     },
     "execution_count": 43,
     "metadata": {},
     "output_type": "execute_result"
    }
   ],
   "source": [
    "# Match coef's of features to columns\n",
    "feature_dict = dict(zip(x_test.columns, list(clf.coef_[0])))\n",
    "feature_dict"
   ]
  },
  {
   "cell_type": "code",
   "execution_count": 44,
   "id": "optimum-physics",
   "metadata": {
    "execution": {
     "iopub.execute_input": "2021-04-27T06:55:00.100602Z",
     "iopub.status.busy": "2021-04-27T06:55:00.092496Z",
     "iopub.status.idle": "2021-04-27T06:55:00.247054Z",
     "shell.execute_reply": "2021-04-27T06:55:00.246495Z"
    },
    "papermill": {
     "duration": 0.243303,
     "end_time": "2021-04-27T06:55:00.247190",
     "exception": false,
     "start_time": "2021-04-27T06:55:00.003887",
     "status": "completed"
    },
    "tags": []
   },
   "outputs": [
    {
     "data": {
      "text/plain": [
       "<AxesSubplot:title={'center':'Feature Importance'}>"
      ]
     },
     "execution_count": 44,
     "metadata": {},
     "output_type": "execute_result"
    },
    {
     "data": {
      "image/png": "[encoded data removed]",
      "text/plain": [
       "<Figure size 432x288 with 1 Axes>"
      ]
     },
     "metadata": {
      "needs_background": "light"
     },
     "output_type": "display_data"
    }
   ],
   "source": [
    "feature_df = pd.DataFrame(feature_dict, index=[0])\n",
    "feature_df.T.plot.bar(title='Feature Importance', legend=False)"
   ]
  },
  {
   "cell_type": "markdown",
   "id": "advanced-simulation",
   "metadata": {
    "papermill": {
     "duration": 0.062609,
     "end_time": "2021-04-27T06:55:00.373794",
     "exception": false,
     "start_time": "2021-04-27T06:55:00.311185",
     "status": "completed"
    },
    "tags": []
   },
   "source": [
    "# Prediction"
   ]
  },
  {
   "cell_type": "code",
   "execution_count": 45,
   "id": "quarterly-worthy",
   "metadata": {
    "execution": {
     "iopub.execute_input": "2021-04-27T06:55:00.509447Z",
     "iopub.status.busy": "2021-04-27T06:55:00.508570Z",
     "iopub.status.idle": "2021-04-27T06:55:01.870250Z",
     "shell.execute_reply": "2021-04-27T06:55:01.869504Z"
    },
    "papermill": {
     "duration": 1.432968,
     "end_time": "2021-04-27T06:55:01.870399",
     "exception": false,
     "start_time": "2021-04-27T06:55:00.437431",
     "status": "completed"
    },
    "tags": []
   },
   "outputs": [
    {
     "name": "stdout",
     "output_type": "stream",
     "text": [
      "Fitting 5 folds for each of 30 candidates, totalling 150 fits\n"
     ]
    }
   ],
   "source": [
    "lgr = LogisticRegression()\n",
    "# Diffrent hyperparameters for our LogisticRegression model\n",
    "log_reg_grid = {'C': np.logspace(-4,4,30),\n",
    "                'solver': ['liblinear']}\n",
    "\n",
    "# setup grid hyperparameter search for LogisticRegression\n",
    "gs_log_reg = GridSearchCV(lgr,\n",
    "                          param_grid= log_reg_grid,\n",
    "                          cv=5,\n",
    "                          verbose=True)\n",
    "\n",
    "# Fit grid hyperparameter search model\n",
    "gs_log_reg.fit(x_train, y_train)\n",
    "\n",
    "# make predictions with tuned model\n",
    "y_preds = gs_log_reg.predict(x_test)\n",
    "\n",
    "# save in data frame\n",
    "survived = y.drop(columns='Survived')\n",
    "survived['Survived'] = y_preds\n",
    "\n",
    "# Dataframe save as .csv\n",
    "survived.to_csv('mypredicteddata.csv', index=True, index_label='PassengerId')\n"
   ]
  }
 ],
 "metadata": {
  "kernelspec": {
   "display_name": "Python 3",
   "language": "python",
   "name": "python3"
  },
  "language_info": {
   "codemirror_mode": {
    "name": "ipython",
    "version": 3
   },
   "file_extension": ".py",
   "mimetype": "text/x-python",
   "name": "python",
   "nbconvert_exporter": "python",
   "pygments_lexer": "ipython3",
   "version": "3.7.10"
  },
  "papermill": {
   "default_parameters": {},
   "duration": 127.942346,
   "end_time": "2021-04-27T06:55:03.582113",
   "environment_variables": {},
   "exception": null,
   "input_path": "__notebook__.ipynb",
   "output_path": "__notebook__.ipynb",
   "parameters": {},
   "start_time": "2021-04-27T06:52:55.639767",
   "version": "2.3.3"
  }
 },
 "nbformat": 4,
 "nbformat_minor": 5
}
